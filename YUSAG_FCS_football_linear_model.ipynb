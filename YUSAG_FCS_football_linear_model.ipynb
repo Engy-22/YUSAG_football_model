{
 "cells": [
  {
   "cell_type": "markdown",
   "metadata": {
    "collapsed": true
   },
   "source": [
    "# The YUSAG Football Model\n",
    "    by Matt Robinson, Yale Undergraduate Sports Analytics Club\n",
    "    \n",
    "This notebook introduces the model we at the Yale Undergraduate Sports Analytics Group (YUSAG) use for our college football rankings. This specific notebook details our FCS rankings at the beginning of the 2017 season.\n"
   ]
  },
  {
   "cell_type": "code",
   "execution_count": 1,
   "metadata": {
    "collapsed": true
   },
   "outputs": [],
   "source": [
    "import numpy as np\n",
    "import pandas as pd\n",
    "import math"
   ]
  },
  {
   "cell_type": "markdown",
   "metadata": {},
   "source": [
    "Let's start by reading in the NCAA FCS football data from 2013-2016:"
   ]
  },
  {
   "cell_type": "code",
   "execution_count": 2,
   "metadata": {
    "collapsed": false
   },
   "outputs": [],
   "source": [
    "df_1 = pd.read_csv('NCAA_FCS_Results_2013_.csv')\n",
    "df_2 = pd.read_csv('NCAA_FCS_Results_2014_.csv')\n",
    "df_3 = pd.read_csv('NCAA_FCS_Results_2015_.csv')\n",
    "df_4 = pd.read_csv('NCAA_FCS_Results_2016_.csv')\n",
    "\n",
    "df = pd.concat([df_1,df_2,df_3,df_4],ignore_index=True)"
   ]
  },
  {
   "cell_type": "code",
   "execution_count": 3,
   "metadata": {
    "collapsed": false
   },
   "outputs": [
    {
     "data": {
      "text/html": [
       "<div>\n",
       "<table border=\"1\" class=\"dataframe\">\n",
       "  <thead>\n",
       "    <tr style=\"text-align: right;\">\n",
       "      <th></th>\n",
       "      <th>year</th>\n",
       "      <th>month</th>\n",
       "      <th>day</th>\n",
       "      <th>team</th>\n",
       "      <th>opponent</th>\n",
       "      <th>location</th>\n",
       "      <th>teamscore</th>\n",
       "      <th>oppscore</th>\n",
       "      <th>OT</th>\n",
       "      <th>D1</th>\n",
       "    </tr>\n",
       "  </thead>\n",
       "  <tbody>\n",
       "    <tr>\n",
       "      <th>0</th>\n",
       "      <td>2013</td>\n",
       "      <td>9</td>\n",
       "      <td>21</td>\n",
       "      <td>Abilene Christian</td>\n",
       "      <td>Illinois St.</td>\n",
       "      <td>V</td>\n",
       "      <td>17</td>\n",
       "      <td>31</td>\n",
       "      <td>NaN</td>\n",
       "      <td>2</td>\n",
       "    </tr>\n",
       "    <tr>\n",
       "      <th>1</th>\n",
       "      <td>2013</td>\n",
       "      <td>10</td>\n",
       "      <td>12</td>\n",
       "      <td>Abilene Christian</td>\n",
       "      <td>Houston Baptist</td>\n",
       "      <td>V</td>\n",
       "      <td>69</td>\n",
       "      <td>12</td>\n",
       "      <td>NaN</td>\n",
       "      <td>2</td>\n",
       "    </tr>\n",
       "    <tr>\n",
       "      <th>2</th>\n",
       "      <td>2013</td>\n",
       "      <td>10</td>\n",
       "      <td>19</td>\n",
       "      <td>Abilene Christian</td>\n",
       "      <td>Incarnate Word</td>\n",
       "      <td>H</td>\n",
       "      <td>40</td>\n",
       "      <td>6</td>\n",
       "      <td>NaN</td>\n",
       "      <td>2</td>\n",
       "    </tr>\n",
       "    <tr>\n",
       "      <th>3</th>\n",
       "      <td>2013</td>\n",
       "      <td>11</td>\n",
       "      <td>9</td>\n",
       "      <td>Abilene Christian</td>\n",
       "      <td>Incarnate Word</td>\n",
       "      <td>V</td>\n",
       "      <td>31</td>\n",
       "      <td>34</td>\n",
       "      <td>NaN</td>\n",
       "      <td>2</td>\n",
       "    </tr>\n",
       "    <tr>\n",
       "      <th>4</th>\n",
       "      <td>2013</td>\n",
       "      <td>11</td>\n",
       "      <td>16</td>\n",
       "      <td>Abilene Christian</td>\n",
       "      <td>Prairie View</td>\n",
       "      <td>V</td>\n",
       "      <td>65</td>\n",
       "      <td>45</td>\n",
       "      <td>NaN</td>\n",
       "      <td>2</td>\n",
       "    </tr>\n",
       "  </tbody>\n",
       "</table>\n",
       "</div>"
      ],
      "text/plain": [
       "   year  month  day               team         opponent location  teamscore  \\\n",
       "0  2013      9   21  Abilene Christian     Illinois St.        V         17   \n",
       "1  2013     10   12  Abilene Christian  Houston Baptist        V         69   \n",
       "2  2013     10   19  Abilene Christian   Incarnate Word        H         40   \n",
       "3  2013     11    9  Abilene Christian   Incarnate Word        V         31   \n",
       "4  2013     11   16  Abilene Christian     Prairie View        V         65   \n",
       "\n",
       "   oppscore  OT  D1  \n",
       "0        31 NaN   2  \n",
       "1        12 NaN   2  \n",
       "2         6 NaN   2  \n",
       "3        34 NaN   2  \n",
       "4        45 NaN   2  "
      ]
     },
     "execution_count": 3,
     "metadata": {},
     "output_type": "execute_result"
    }
   ],
   "source": [
    "df.head()"
   ]
  },
  {
   "cell_type": "markdown",
   "metadata": {},
   "source": [
    "As you can see, the `OT` column has some `NaN` values that we will replace with 0."
   ]
  },
  {
   "cell_type": "code",
   "execution_count": 4,
   "metadata": {
    "collapsed": true
   },
   "outputs": [],
   "source": [
    "# fill missing data with 0\n",
    "df = df.fillna(0)"
   ]
  },
  {
   "cell_type": "code",
   "execution_count": 5,
   "metadata": {
    "collapsed": false
   },
   "outputs": [
    {
     "data": {
      "text/html": [
       "<div>\n",
       "<table border=\"1\" class=\"dataframe\">\n",
       "  <thead>\n",
       "    <tr style=\"text-align: right;\">\n",
       "      <th></th>\n",
       "      <th>year</th>\n",
       "      <th>month</th>\n",
       "      <th>day</th>\n",
       "      <th>team</th>\n",
       "      <th>opponent</th>\n",
       "      <th>location</th>\n",
       "      <th>teamscore</th>\n",
       "      <th>oppscore</th>\n",
       "      <th>OT</th>\n",
       "      <th>D1</th>\n",
       "    </tr>\n",
       "  </thead>\n",
       "  <tbody>\n",
       "    <tr>\n",
       "      <th>0</th>\n",
       "      <td>2013</td>\n",
       "      <td>9</td>\n",
       "      <td>21</td>\n",
       "      <td>Abilene Christian</td>\n",
       "      <td>Illinois St.</td>\n",
       "      <td>V</td>\n",
       "      <td>17</td>\n",
       "      <td>31</td>\n",
       "      <td>0.0</td>\n",
       "      <td>2</td>\n",
       "    </tr>\n",
       "    <tr>\n",
       "      <th>1</th>\n",
       "      <td>2013</td>\n",
       "      <td>10</td>\n",
       "      <td>12</td>\n",
       "      <td>Abilene Christian</td>\n",
       "      <td>Houston Baptist</td>\n",
       "      <td>V</td>\n",
       "      <td>69</td>\n",
       "      <td>12</td>\n",
       "      <td>0.0</td>\n",
       "      <td>2</td>\n",
       "    </tr>\n",
       "    <tr>\n",
       "      <th>2</th>\n",
       "      <td>2013</td>\n",
       "      <td>10</td>\n",
       "      <td>19</td>\n",
       "      <td>Abilene Christian</td>\n",
       "      <td>Incarnate Word</td>\n",
       "      <td>H</td>\n",
       "      <td>40</td>\n",
       "      <td>6</td>\n",
       "      <td>0.0</td>\n",
       "      <td>2</td>\n",
       "    </tr>\n",
       "    <tr>\n",
       "      <th>3</th>\n",
       "      <td>2013</td>\n",
       "      <td>11</td>\n",
       "      <td>9</td>\n",
       "      <td>Abilene Christian</td>\n",
       "      <td>Incarnate Word</td>\n",
       "      <td>V</td>\n",
       "      <td>31</td>\n",
       "      <td>34</td>\n",
       "      <td>0.0</td>\n",
       "      <td>2</td>\n",
       "    </tr>\n",
       "    <tr>\n",
       "      <th>4</th>\n",
       "      <td>2013</td>\n",
       "      <td>11</td>\n",
       "      <td>16</td>\n",
       "      <td>Abilene Christian</td>\n",
       "      <td>Prairie View</td>\n",
       "      <td>V</td>\n",
       "      <td>65</td>\n",
       "      <td>45</td>\n",
       "      <td>0.0</td>\n",
       "      <td>2</td>\n",
       "    </tr>\n",
       "  </tbody>\n",
       "</table>\n",
       "</div>"
      ],
      "text/plain": [
       "   year  month  day               team         opponent location  teamscore  \\\n",
       "0  2013      9   21  Abilene Christian     Illinois St.        V         17   \n",
       "1  2013     10   12  Abilene Christian  Houston Baptist        V         69   \n",
       "2  2013     10   19  Abilene Christian   Incarnate Word        H         40   \n",
       "3  2013     11    9  Abilene Christian   Incarnate Word        V         31   \n",
       "4  2013     11   16  Abilene Christian     Prairie View        V         65   \n",
       "\n",
       "   oppscore   OT  D1  \n",
       "0        31  0.0   2  \n",
       "1        12  0.0   2  \n",
       "2         6  0.0   2  \n",
       "3        34  0.0   2  \n",
       "4        45  0.0   2  "
      ]
     },
     "execution_count": 5,
     "metadata": {},
     "output_type": "execute_result"
    }
   ],
   "source": [
    "df.head()"
   ]
  },
  {
   "cell_type": "markdown",
   "metadata": {},
   "source": [
    "I'm also going to make some weights for when we run our linear regression. I have found that using the factorial of the difference between the year and 2012 seems to work decently well. Clearly, the new years are weighted quite heavily in this scheme."
   ]
  },
  {
   "cell_type": "code",
   "execution_count": 6,
   "metadata": {
    "collapsed": true
   },
   "outputs": [],
   "source": [
    "# update the weights based on a factorial scheme\n",
    "df['weights'] = (df['year']-2012)\n",
    "df['weights'] = df['weights'].apply(lambda x: math.factorial(x))"
   ]
  },
  {
   "cell_type": "markdown",
   "metadata": {},
   "source": [
    "And now, we also are going to make a `scorediff` column that we can use in our linear regression."
   ]
  },
  {
   "cell_type": "code",
   "execution_count": 7,
   "metadata": {
    "collapsed": true
   },
   "outputs": [],
   "source": [
    "df['scorediff'] = (df['teamscore']-df['oppscore'])"
   ]
  },
  {
   "cell_type": "code",
   "execution_count": 8,
   "metadata": {
    "collapsed": false
   },
   "outputs": [
    {
     "data": {
      "text/html": [
       "<div>\n",
       "<table border=\"1\" class=\"dataframe\">\n",
       "  <thead>\n",
       "    <tr style=\"text-align: right;\">\n",
       "      <th></th>\n",
       "      <th>year</th>\n",
       "      <th>month</th>\n",
       "      <th>day</th>\n",
       "      <th>team</th>\n",
       "      <th>opponent</th>\n",
       "      <th>location</th>\n",
       "      <th>teamscore</th>\n",
       "      <th>oppscore</th>\n",
       "      <th>OT</th>\n",
       "      <th>D1</th>\n",
       "      <th>weights</th>\n",
       "      <th>scorediff</th>\n",
       "    </tr>\n",
       "  </thead>\n",
       "  <tbody>\n",
       "    <tr>\n",
       "      <th>0</th>\n",
       "      <td>2013</td>\n",
       "      <td>9</td>\n",
       "      <td>21</td>\n",
       "      <td>Abilene Christian</td>\n",
       "      <td>Illinois St.</td>\n",
       "      <td>V</td>\n",
       "      <td>17</td>\n",
       "      <td>31</td>\n",
       "      <td>0.0</td>\n",
       "      <td>2</td>\n",
       "      <td>1</td>\n",
       "      <td>-14</td>\n",
       "    </tr>\n",
       "    <tr>\n",
       "      <th>1</th>\n",
       "      <td>2013</td>\n",
       "      <td>10</td>\n",
       "      <td>12</td>\n",
       "      <td>Abilene Christian</td>\n",
       "      <td>Houston Baptist</td>\n",
       "      <td>V</td>\n",
       "      <td>69</td>\n",
       "      <td>12</td>\n",
       "      <td>0.0</td>\n",
       "      <td>2</td>\n",
       "      <td>1</td>\n",
       "      <td>57</td>\n",
       "    </tr>\n",
       "    <tr>\n",
       "      <th>2</th>\n",
       "      <td>2013</td>\n",
       "      <td>10</td>\n",
       "      <td>19</td>\n",
       "      <td>Abilene Christian</td>\n",
       "      <td>Incarnate Word</td>\n",
       "      <td>H</td>\n",
       "      <td>40</td>\n",
       "      <td>6</td>\n",
       "      <td>0.0</td>\n",
       "      <td>2</td>\n",
       "      <td>1</td>\n",
       "      <td>34</td>\n",
       "    </tr>\n",
       "    <tr>\n",
       "      <th>3</th>\n",
       "      <td>2013</td>\n",
       "      <td>11</td>\n",
       "      <td>9</td>\n",
       "      <td>Abilene Christian</td>\n",
       "      <td>Incarnate Word</td>\n",
       "      <td>V</td>\n",
       "      <td>31</td>\n",
       "      <td>34</td>\n",
       "      <td>0.0</td>\n",
       "      <td>2</td>\n",
       "      <td>1</td>\n",
       "      <td>-3</td>\n",
       "    </tr>\n",
       "    <tr>\n",
       "      <th>4</th>\n",
       "      <td>2013</td>\n",
       "      <td>11</td>\n",
       "      <td>16</td>\n",
       "      <td>Abilene Christian</td>\n",
       "      <td>Prairie View</td>\n",
       "      <td>V</td>\n",
       "      <td>65</td>\n",
       "      <td>45</td>\n",
       "      <td>0.0</td>\n",
       "      <td>2</td>\n",
       "      <td>1</td>\n",
       "      <td>20</td>\n",
       "    </tr>\n",
       "  </tbody>\n",
       "</table>\n",
       "</div>"
      ],
      "text/plain": [
       "   year  month  day               team         opponent location  teamscore  \\\n",
       "0  2013      9   21  Abilene Christian     Illinois St.        V         17   \n",
       "1  2013     10   12  Abilene Christian  Houston Baptist        V         69   \n",
       "2  2013     10   19  Abilene Christian   Incarnate Word        H         40   \n",
       "3  2013     11    9  Abilene Christian   Incarnate Word        V         31   \n",
       "4  2013     11   16  Abilene Christian     Prairie View        V         65   \n",
       "\n",
       "   oppscore   OT  D1  weights  scorediff  \n",
       "0        31  0.0   2        1        -14  \n",
       "1        12  0.0   2        1         57  \n",
       "2         6  0.0   2        1         34  \n",
       "3        34  0.0   2        1         -3  \n",
       "4        45  0.0   2        1         20  "
      ]
     },
     "execution_count": 8,
     "metadata": {},
     "output_type": "execute_result"
    }
   ],
   "source": [
    "df.head()"
   ]
  },
  {
   "cell_type": "markdown",
   "metadata": {},
   "source": [
    "Since we need numerical values for the linear regression algorithm, I am going to replace the locations with what seem like reasonable numbers:\n",
    "* Visiting = -1\n",
    "* Neutral = 0\n",
    "* Home = 1"
   ]
  },
  {
   "cell_type": "code",
   "execution_count": 9,
   "metadata": {
    "collapsed": false
   },
   "outputs": [],
   "source": [
    "df['location'] = df['location'].replace('V',-1)\n",
    "df['location'] = df['location'].replace('N',0)\n",
    "df['location'] = df['location'].replace('H',1)"
   ]
  },
  {
   "cell_type": "code",
   "execution_count": 10,
   "metadata": {
    "collapsed": false
   },
   "outputs": [
    {
     "data": {
      "text/html": [
       "<div>\n",
       "<table border=\"1\" class=\"dataframe\">\n",
       "  <thead>\n",
       "    <tr style=\"text-align: right;\">\n",
       "      <th></th>\n",
       "      <th>year</th>\n",
       "      <th>month</th>\n",
       "      <th>day</th>\n",
       "      <th>team</th>\n",
       "      <th>opponent</th>\n",
       "      <th>location</th>\n",
       "      <th>teamscore</th>\n",
       "      <th>oppscore</th>\n",
       "      <th>OT</th>\n",
       "      <th>D1</th>\n",
       "      <th>weights</th>\n",
       "      <th>scorediff</th>\n",
       "    </tr>\n",
       "  </thead>\n",
       "  <tbody>\n",
       "    <tr>\n",
       "      <th>0</th>\n",
       "      <td>2013</td>\n",
       "      <td>9</td>\n",
       "      <td>21</td>\n",
       "      <td>Abilene Christian</td>\n",
       "      <td>Illinois St.</td>\n",
       "      <td>-1</td>\n",
       "      <td>17</td>\n",
       "      <td>31</td>\n",
       "      <td>0.0</td>\n",
       "      <td>2</td>\n",
       "      <td>1</td>\n",
       "      <td>-14</td>\n",
       "    </tr>\n",
       "    <tr>\n",
       "      <th>1</th>\n",
       "      <td>2013</td>\n",
       "      <td>10</td>\n",
       "      <td>12</td>\n",
       "      <td>Abilene Christian</td>\n",
       "      <td>Houston Baptist</td>\n",
       "      <td>-1</td>\n",
       "      <td>69</td>\n",
       "      <td>12</td>\n",
       "      <td>0.0</td>\n",
       "      <td>2</td>\n",
       "      <td>1</td>\n",
       "      <td>57</td>\n",
       "    </tr>\n",
       "    <tr>\n",
       "      <th>2</th>\n",
       "      <td>2013</td>\n",
       "      <td>10</td>\n",
       "      <td>19</td>\n",
       "      <td>Abilene Christian</td>\n",
       "      <td>Incarnate Word</td>\n",
       "      <td>1</td>\n",
       "      <td>40</td>\n",
       "      <td>6</td>\n",
       "      <td>0.0</td>\n",
       "      <td>2</td>\n",
       "      <td>1</td>\n",
       "      <td>34</td>\n",
       "    </tr>\n",
       "    <tr>\n",
       "      <th>3</th>\n",
       "      <td>2013</td>\n",
       "      <td>11</td>\n",
       "      <td>9</td>\n",
       "      <td>Abilene Christian</td>\n",
       "      <td>Incarnate Word</td>\n",
       "      <td>-1</td>\n",
       "      <td>31</td>\n",
       "      <td>34</td>\n",
       "      <td>0.0</td>\n",
       "      <td>2</td>\n",
       "      <td>1</td>\n",
       "      <td>-3</td>\n",
       "    </tr>\n",
       "    <tr>\n",
       "      <th>4</th>\n",
       "      <td>2013</td>\n",
       "      <td>11</td>\n",
       "      <td>16</td>\n",
       "      <td>Abilene Christian</td>\n",
       "      <td>Prairie View</td>\n",
       "      <td>-1</td>\n",
       "      <td>65</td>\n",
       "      <td>45</td>\n",
       "      <td>0.0</td>\n",
       "      <td>2</td>\n",
       "      <td>1</td>\n",
       "      <td>20</td>\n",
       "    </tr>\n",
       "  </tbody>\n",
       "</table>\n",
       "</div>"
      ],
      "text/plain": [
       "   year  month  day               team         opponent  location  teamscore  \\\n",
       "0  2013      9   21  Abilene Christian     Illinois St.        -1         17   \n",
       "1  2013     10   12  Abilene Christian  Houston Baptist        -1         69   \n",
       "2  2013     10   19  Abilene Christian   Incarnate Word         1         40   \n",
       "3  2013     11    9  Abilene Christian   Incarnate Word        -1         31   \n",
       "4  2013     11   16  Abilene Christian     Prairie View        -1         65   \n",
       "\n",
       "   oppscore   OT  D1  weights  scorediff  \n",
       "0        31  0.0   2        1        -14  \n",
       "1        12  0.0   2        1         57  \n",
       "2         6  0.0   2        1         34  \n",
       "3        34  0.0   2        1         -3  \n",
       "4        45  0.0   2        1         20  "
      ]
     },
     "execution_count": 10,
     "metadata": {},
     "output_type": "execute_result"
    }
   ],
   "source": [
    "df.head()"
   ]
  },
  {
   "cell_type": "markdown",
   "metadata": {},
   "source": [
    "The way our linear regression works is a little tricky to code up in Scikit-Learn. It's much easier to do in R, but then you don't have a full understanding of what's happening when we make the model.\n",
    "\n",
    "In simplest terms, our model predicts the score differential (`scorediff`) of each game based on three things: the strength of the `team`, the strength of the `opponent`, and the `location`.\n",
    "\n",
    "You'll notice that the `team` and `opponent` features are categorical, and thus are not curretnly ripe for use with linear regression. However, we can use what is called 'one hot encoding' in order to transform these features into a usable form. One hot encoding works by taking the `team` feature, for example, and transforming it into many features such as `team_Yale` and `team_Harvard`. This `team_Yale` feature will usally equal zero, except when the team is actually Yale, then `team_Yale` will equal 1. In this way, it's a binary encoding (which is actually very useful for us as we'll see later).\n",
    "\n",
    "One can use `sklearn.preprocessing.OneHotEncoder` for this task, but I am going to use Pandas instead: "
   ]
  },
  {
   "cell_type": "code",
   "execution_count": 11,
   "metadata": {
    "collapsed": true
   },
   "outputs": [],
   "source": [
    "# create dummy variables, need to do this in python b/c does not handle automatically like R\n",
    "team_dummies = pd.get_dummies(df.team, prefix='team')\n",
    "opponent_dummies = pd.get_dummies(df.opponent, prefix='opponent')\n",
    "\n",
    "df = pd.concat([df, team_dummies, opponent_dummies], axis=1)"
   ]
  },
  {
   "cell_type": "code",
   "execution_count": 12,
   "metadata": {
    "collapsed": false
   },
   "outputs": [
    {
     "data": {
      "text/html": [
       "<div>\n",
       "<table border=\"1\" class=\"dataframe\">\n",
       "  <thead>\n",
       "    <tr style=\"text-align: right;\">\n",
       "      <th></th>\n",
       "      <th>year</th>\n",
       "      <th>month</th>\n",
       "      <th>day</th>\n",
       "      <th>team</th>\n",
       "      <th>opponent</th>\n",
       "      <th>location</th>\n",
       "      <th>teamscore</th>\n",
       "      <th>oppscore</th>\n",
       "      <th>OT</th>\n",
       "      <th>D1</th>\n",
       "      <th>...</th>\n",
       "      <th>opponent_Valparaiso</th>\n",
       "      <th>opponent_Villanova</th>\n",
       "      <th>opponent_Wagner</th>\n",
       "      <th>opponent_Weber St.</th>\n",
       "      <th>opponent_Western Caro.</th>\n",
       "      <th>opponent_Western Ill.</th>\n",
       "      <th>opponent_William &amp; Mary</th>\n",
       "      <th>opponent_Wofford</th>\n",
       "      <th>opponent_Yale</th>\n",
       "      <th>opponent_Youngstown St.</th>\n",
       "    </tr>\n",
       "  </thead>\n",
       "  <tbody>\n",
       "    <tr>\n",
       "      <th>0</th>\n",
       "      <td>2013</td>\n",
       "      <td>9</td>\n",
       "      <td>21</td>\n",
       "      <td>Abilene Christian</td>\n",
       "      <td>Illinois St.</td>\n",
       "      <td>-1</td>\n",
       "      <td>17</td>\n",
       "      <td>31</td>\n",
       "      <td>0.0</td>\n",
       "      <td>2</td>\n",
       "      <td>...</td>\n",
       "      <td>0</td>\n",
       "      <td>0</td>\n",
       "      <td>0</td>\n",
       "      <td>0</td>\n",
       "      <td>0</td>\n",
       "      <td>0</td>\n",
       "      <td>0</td>\n",
       "      <td>0</td>\n",
       "      <td>0</td>\n",
       "      <td>0</td>\n",
       "    </tr>\n",
       "    <tr>\n",
       "      <th>1</th>\n",
       "      <td>2013</td>\n",
       "      <td>10</td>\n",
       "      <td>12</td>\n",
       "      <td>Abilene Christian</td>\n",
       "      <td>Houston Baptist</td>\n",
       "      <td>-1</td>\n",
       "      <td>69</td>\n",
       "      <td>12</td>\n",
       "      <td>0.0</td>\n",
       "      <td>2</td>\n",
       "      <td>...</td>\n",
       "      <td>0</td>\n",
       "      <td>0</td>\n",
       "      <td>0</td>\n",
       "      <td>0</td>\n",
       "      <td>0</td>\n",
       "      <td>0</td>\n",
       "      <td>0</td>\n",
       "      <td>0</td>\n",
       "      <td>0</td>\n",
       "      <td>0</td>\n",
       "    </tr>\n",
       "    <tr>\n",
       "      <th>2</th>\n",
       "      <td>2013</td>\n",
       "      <td>10</td>\n",
       "      <td>19</td>\n",
       "      <td>Abilene Christian</td>\n",
       "      <td>Incarnate Word</td>\n",
       "      <td>1</td>\n",
       "      <td>40</td>\n",
       "      <td>6</td>\n",
       "      <td>0.0</td>\n",
       "      <td>2</td>\n",
       "      <td>...</td>\n",
       "      <td>0</td>\n",
       "      <td>0</td>\n",
       "      <td>0</td>\n",
       "      <td>0</td>\n",
       "      <td>0</td>\n",
       "      <td>0</td>\n",
       "      <td>0</td>\n",
       "      <td>0</td>\n",
       "      <td>0</td>\n",
       "      <td>0</td>\n",
       "    </tr>\n",
       "    <tr>\n",
       "      <th>3</th>\n",
       "      <td>2013</td>\n",
       "      <td>11</td>\n",
       "      <td>9</td>\n",
       "      <td>Abilene Christian</td>\n",
       "      <td>Incarnate Word</td>\n",
       "      <td>-1</td>\n",
       "      <td>31</td>\n",
       "      <td>34</td>\n",
       "      <td>0.0</td>\n",
       "      <td>2</td>\n",
       "      <td>...</td>\n",
       "      <td>0</td>\n",
       "      <td>0</td>\n",
       "      <td>0</td>\n",
       "      <td>0</td>\n",
       "      <td>0</td>\n",
       "      <td>0</td>\n",
       "      <td>0</td>\n",
       "      <td>0</td>\n",
       "      <td>0</td>\n",
       "      <td>0</td>\n",
       "    </tr>\n",
       "    <tr>\n",
       "      <th>4</th>\n",
       "      <td>2013</td>\n",
       "      <td>11</td>\n",
       "      <td>16</td>\n",
       "      <td>Abilene Christian</td>\n",
       "      <td>Prairie View</td>\n",
       "      <td>-1</td>\n",
       "      <td>65</td>\n",
       "      <td>45</td>\n",
       "      <td>0.0</td>\n",
       "      <td>2</td>\n",
       "      <td>...</td>\n",
       "      <td>0</td>\n",
       "      <td>0</td>\n",
       "      <td>0</td>\n",
       "      <td>0</td>\n",
       "      <td>0</td>\n",
       "      <td>0</td>\n",
       "      <td>0</td>\n",
       "      <td>0</td>\n",
       "      <td>0</td>\n",
       "      <td>0</td>\n",
       "    </tr>\n",
       "  </tbody>\n",
       "</table>\n",
       "<p>5 rows × 264 columns</p>\n",
       "</div>"
      ],
      "text/plain": [
       "   year  month  day               team         opponent  location  teamscore  \\\n",
       "0  2013      9   21  Abilene Christian     Illinois St.        -1         17   \n",
       "1  2013     10   12  Abilene Christian  Houston Baptist        -1         69   \n",
       "2  2013     10   19  Abilene Christian   Incarnate Word         1         40   \n",
       "3  2013     11    9  Abilene Christian   Incarnate Word        -1         31   \n",
       "4  2013     11   16  Abilene Christian     Prairie View        -1         65   \n",
       "\n",
       "   oppscore   OT  D1           ...             opponent_Valparaiso  \\\n",
       "0        31  0.0   2           ...                               0   \n",
       "1        12  0.0   2           ...                               0   \n",
       "2         6  0.0   2           ...                               0   \n",
       "3        34  0.0   2           ...                               0   \n",
       "4        45  0.0   2           ...                               0   \n",
       "\n",
       "   opponent_Villanova  opponent_Wagner  opponent_Weber St.  \\\n",
       "0                   0                0                   0   \n",
       "1                   0                0                   0   \n",
       "2                   0                0                   0   \n",
       "3                   0                0                   0   \n",
       "4                   0                0                   0   \n",
       "\n",
       "   opponent_Western Caro.  opponent_Western Ill.  opponent_William & Mary  \\\n",
       "0                       0                      0                        0   \n",
       "1                       0                      0                        0   \n",
       "2                       0                      0                        0   \n",
       "3                       0                      0                        0   \n",
       "4                       0                      0                        0   \n",
       "\n",
       "   opponent_Wofford  opponent_Yale  opponent_Youngstown St.  \n",
       "0                 0              0                        0  \n",
       "1                 0              0                        0  \n",
       "2                 0              0                        0  \n",
       "3                 0              0                        0  \n",
       "4                 0              0                        0  \n",
       "\n",
       "[5 rows x 264 columns]"
      ]
     },
     "execution_count": 12,
     "metadata": {},
     "output_type": "execute_result"
    }
   ],
   "source": [
    "df.head()"
   ]
  },
  {
   "cell_type": "markdown",
   "metadata": {},
   "source": [
    "Now let's make our training data, so that we can construct the model. At this point, I am going to use all the avaiable data to train the model, using our predetermined hyperparameters. This way, the model is ready to make predictions for the 2017 season."
   ]
  },
  {
   "cell_type": "code",
   "execution_count": 13,
   "metadata": {
    "collapsed": true
   },
   "outputs": [],
   "source": [
    "# make the training data\n",
    "X = df.drop(['year','month','day','team','opponent','teamscore','oppscore','D1','OT','weights','scorediff'], axis=1)\n",
    "y = df['scorediff']\n",
    "weights = df['weights']"
   ]
  },
  {
   "cell_type": "code",
   "execution_count": 14,
   "metadata": {
    "collapsed": false
   },
   "outputs": [
    {
     "data": {
      "text/html": [
       "<div>\n",
       "<table border=\"1\" class=\"dataframe\">\n",
       "  <thead>\n",
       "    <tr style=\"text-align: right;\">\n",
       "      <th></th>\n",
       "      <th>location</th>\n",
       "      <th>team_Abilene Christian</th>\n",
       "      <th>team_Alabama A&amp;M</th>\n",
       "      <th>team_Alabama St.</th>\n",
       "      <th>team_Albany (NY)</th>\n",
       "      <th>team_Alcorn</th>\n",
       "      <th>team_Ark.-Pine Bluff</th>\n",
       "      <th>team_Austin Peay</th>\n",
       "      <th>team_Bethune-Cookman</th>\n",
       "      <th>team_Brown</th>\n",
       "      <th>...</th>\n",
       "      <th>opponent_Valparaiso</th>\n",
       "      <th>opponent_Villanova</th>\n",
       "      <th>opponent_Wagner</th>\n",
       "      <th>opponent_Weber St.</th>\n",
       "      <th>opponent_Western Caro.</th>\n",
       "      <th>opponent_Western Ill.</th>\n",
       "      <th>opponent_William &amp; Mary</th>\n",
       "      <th>opponent_Wofford</th>\n",
       "      <th>opponent_Yale</th>\n",
       "      <th>opponent_Youngstown St.</th>\n",
       "    </tr>\n",
       "  </thead>\n",
       "  <tbody>\n",
       "    <tr>\n",
       "      <th>0</th>\n",
       "      <td>-1</td>\n",
       "      <td>1</td>\n",
       "      <td>0</td>\n",
       "      <td>0</td>\n",
       "      <td>0</td>\n",
       "      <td>0</td>\n",
       "      <td>0</td>\n",
       "      <td>0</td>\n",
       "      <td>0</td>\n",
       "      <td>0</td>\n",
       "      <td>...</td>\n",
       "      <td>0</td>\n",
       "      <td>0</td>\n",
       "      <td>0</td>\n",
       "      <td>0</td>\n",
       "      <td>0</td>\n",
       "      <td>0</td>\n",
       "      <td>0</td>\n",
       "      <td>0</td>\n",
       "      <td>0</td>\n",
       "      <td>0</td>\n",
       "    </tr>\n",
       "    <tr>\n",
       "      <th>1</th>\n",
       "      <td>-1</td>\n",
       "      <td>1</td>\n",
       "      <td>0</td>\n",
       "      <td>0</td>\n",
       "      <td>0</td>\n",
       "      <td>0</td>\n",
       "      <td>0</td>\n",
       "      <td>0</td>\n",
       "      <td>0</td>\n",
       "      <td>0</td>\n",
       "      <td>...</td>\n",
       "      <td>0</td>\n",
       "      <td>0</td>\n",
       "      <td>0</td>\n",
       "      <td>0</td>\n",
       "      <td>0</td>\n",
       "      <td>0</td>\n",
       "      <td>0</td>\n",
       "      <td>0</td>\n",
       "      <td>0</td>\n",
       "      <td>0</td>\n",
       "    </tr>\n",
       "    <tr>\n",
       "      <th>2</th>\n",
       "      <td>1</td>\n",
       "      <td>1</td>\n",
       "      <td>0</td>\n",
       "      <td>0</td>\n",
       "      <td>0</td>\n",
       "      <td>0</td>\n",
       "      <td>0</td>\n",
       "      <td>0</td>\n",
       "      <td>0</td>\n",
       "      <td>0</td>\n",
       "      <td>...</td>\n",
       "      <td>0</td>\n",
       "      <td>0</td>\n",
       "      <td>0</td>\n",
       "      <td>0</td>\n",
       "      <td>0</td>\n",
       "      <td>0</td>\n",
       "      <td>0</td>\n",
       "      <td>0</td>\n",
       "      <td>0</td>\n",
       "      <td>0</td>\n",
       "    </tr>\n",
       "    <tr>\n",
       "      <th>3</th>\n",
       "      <td>-1</td>\n",
       "      <td>1</td>\n",
       "      <td>0</td>\n",
       "      <td>0</td>\n",
       "      <td>0</td>\n",
       "      <td>0</td>\n",
       "      <td>0</td>\n",
       "      <td>0</td>\n",
       "      <td>0</td>\n",
       "      <td>0</td>\n",
       "      <td>...</td>\n",
       "      <td>0</td>\n",
       "      <td>0</td>\n",
       "      <td>0</td>\n",
       "      <td>0</td>\n",
       "      <td>0</td>\n",
       "      <td>0</td>\n",
       "      <td>0</td>\n",
       "      <td>0</td>\n",
       "      <td>0</td>\n",
       "      <td>0</td>\n",
       "    </tr>\n",
       "    <tr>\n",
       "      <th>4</th>\n",
       "      <td>-1</td>\n",
       "      <td>1</td>\n",
       "      <td>0</td>\n",
       "      <td>0</td>\n",
       "      <td>0</td>\n",
       "      <td>0</td>\n",
       "      <td>0</td>\n",
       "      <td>0</td>\n",
       "      <td>0</td>\n",
       "      <td>0</td>\n",
       "      <td>...</td>\n",
       "      <td>0</td>\n",
       "      <td>0</td>\n",
       "      <td>0</td>\n",
       "      <td>0</td>\n",
       "      <td>0</td>\n",
       "      <td>0</td>\n",
       "      <td>0</td>\n",
       "      <td>0</td>\n",
       "      <td>0</td>\n",
       "      <td>0</td>\n",
       "    </tr>\n",
       "  </tbody>\n",
       "</table>\n",
       "<p>5 rows × 253 columns</p>\n",
       "</div>"
      ],
      "text/plain": [
       "   location  team_Abilene Christian  team_Alabama A&M  team_Alabama St.  \\\n",
       "0        -1                       1                 0                 0   \n",
       "1        -1                       1                 0                 0   \n",
       "2         1                       1                 0                 0   \n",
       "3        -1                       1                 0                 0   \n",
       "4        -1                       1                 0                 0   \n",
       "\n",
       "   team_Albany (NY)  team_Alcorn  team_Ark.-Pine Bluff  team_Austin Peay  \\\n",
       "0                 0            0                     0                 0   \n",
       "1                 0            0                     0                 0   \n",
       "2                 0            0                     0                 0   \n",
       "3                 0            0                     0                 0   \n",
       "4                 0            0                     0                 0   \n",
       "\n",
       "   team_Bethune-Cookman  team_Brown           ...             \\\n",
       "0                     0           0           ...              \n",
       "1                     0           0           ...              \n",
       "2                     0           0           ...              \n",
       "3                     0           0           ...              \n",
       "4                     0           0           ...              \n",
       "\n",
       "   opponent_Valparaiso  opponent_Villanova  opponent_Wagner  \\\n",
       "0                    0                   0                0   \n",
       "1                    0                   0                0   \n",
       "2                    0                   0                0   \n",
       "3                    0                   0                0   \n",
       "4                    0                   0                0   \n",
       "\n",
       "   opponent_Weber St.  opponent_Western Caro.  opponent_Western Ill.  \\\n",
       "0                   0                       0                      0   \n",
       "1                   0                       0                      0   \n",
       "2                   0                       0                      0   \n",
       "3                   0                       0                      0   \n",
       "4                   0                       0                      0   \n",
       "\n",
       "   opponent_William & Mary  opponent_Wofford  opponent_Yale  \\\n",
       "0                        0                 0              0   \n",
       "1                        0                 0              0   \n",
       "2                        0                 0              0   \n",
       "3                        0                 0              0   \n",
       "4                        0                 0              0   \n",
       "\n",
       "   opponent_Youngstown St.  \n",
       "0                        0  \n",
       "1                        0  \n",
       "2                        0  \n",
       "3                        0  \n",
       "4                        0  \n",
       "\n",
       "[5 rows x 253 columns]"
      ]
     },
     "execution_count": 14,
     "metadata": {},
     "output_type": "execute_result"
    }
   ],
   "source": [
    "X.head()"
   ]
  },
  {
   "cell_type": "code",
   "execution_count": 15,
   "metadata": {
    "collapsed": false
   },
   "outputs": [
    {
     "data": {
      "text/plain": [
       "0   -14\n",
       "1    57\n",
       "2    34\n",
       "3    -3\n",
       "4    20\n",
       "Name: scorediff, dtype: int64"
      ]
     },
     "execution_count": 15,
     "metadata": {},
     "output_type": "execute_result"
    }
   ],
   "source": [
    "y.head()"
   ]
  },
  {
   "cell_type": "code",
   "execution_count": 16,
   "metadata": {
    "collapsed": false
   },
   "outputs": [
    {
     "data": {
      "text/plain": [
       "0    1\n",
       "1    1\n",
       "2    1\n",
       "3    1\n",
       "4    1\n",
       "Name: weights, dtype: int64"
      ]
     },
     "execution_count": 16,
     "metadata": {},
     "output_type": "execute_result"
    }
   ],
   "source": [
    "weights.head()"
   ]
  },
  {
   "cell_type": "markdown",
   "metadata": {},
   "source": [
    "Now let's train the linear regression model. You'll notice that I'm actually using ridge regression (adds an l2 penalty with alpha = 1.0) because that prevents the model from overfitting and also limits the values of the coefficients to be more interpretable. If I did not add this penalty, the coefficients would be huge."
   ]
  },
  {
   "cell_type": "code",
   "execution_count": 17,
   "metadata": {
    "collapsed": false
   },
   "outputs": [
    {
     "data": {
      "text/plain": [
       "Ridge(alpha=1.0, copy_X=True, fit_intercept=True, max_iter=None,\n",
       "   normalize=False, random_state=None, solver='auto', tol=0.001)"
      ]
     },
     "execution_count": 17,
     "metadata": {},
     "output_type": "execute_result"
    }
   ],
   "source": [
    "from sklearn.linear_model import Ridge\n",
    "ridge_reg = Ridge()\n",
    "ridge_reg.fit(X, y, sample_weight=weights)"
   ]
  },
  {
   "cell_type": "code",
   "execution_count": 18,
   "metadata": {
    "collapsed": false
   },
   "outputs": [
    {
     "name": "stdout",
     "output_type": "stream",
     "text": [
      "R^2 on the training data:\n",
      "0.566012746279\n"
     ]
    }
   ],
   "source": [
    "# get the R^2 value\n",
    "r_squared = ridge_reg.score(X, y, sample_weight=weights)\n",
    "print('R^2 on the training data:')\n",
    "print(r_squared)"
   ]
  },
  {
   "cell_type": "markdown",
   "metadata": {},
   "source": [
    "Now that the model is trained, we can use it to provide our rankings. Note that in this model, a team's ranking is simply defined as its linear regression coefficient, which we call the YUSAG coefficient. \n",
    "\n",
    "When predicting a game's score differential on a neutral field, the predicted score differential (`scorediff`) is just the difference in YUSAG coefficients. The reason this works is the binary encoding we did earlier.\n",
    "\n",
    "#### More details below on how it actually works\n",
    "\n",
    "Ok, so you may have noticed that every game in our dataframe is actually duplicated, just with the `team` and `opponent` variables switched. This may have seemed like a mistake but it is actually useful for making the model more interpretable. \n",
    "\n",
    "When we run the model, we get a coefficient for the `team_Yale` variable, which we call the YUSAG coefficient, and a coefficient for the `opponent_Yale` variable. Since we allow every game to be repeated, these variables end up just being negatives of each other. \n",
    "\n",
    "So let's think about what we are doing when we predict the score differential for the Harvard-Penn game with `team` = Harvard and `opponent` = Penn.\n",
    "\n",
    "In our model, the coefficients are as follows:\n",
    "- team_Harvard_coef = 7.78\n",
    "- opponent_Harvard_coef = -7.78\n",
    "- team_Penn_coef = 6.68\n",
    "- opponent_Penn_coef = -6.68\n",
    "\n",
    "when we go to use the model for this game, it looks like this:\n",
    "\n",
    "`scorediff` = (location_coef $*$ `location`) + (team_Harvard_coef $*$ `team_Harvard`) + (opponent_Harvard_coef $*$ `opponent_Harvard`) + (team_Penn_coef $*$ `team_Penn`) + (opponent_Penn_coef $*$ `opponent_Penn`) + (team_Yale_coef $*$ `team_Yale`) + (opponent_Yale_coef $*$ `opponent_Yale`) + $\\cdots$\n",
    "\n",
    "where the $\\cdots$ represent data for many other teams, which will all just equal $0$.\n",
    "\n",
    "To put numbers in for the variables, the model looks like this:\n",
    "\n",
    "`scorediff` = (location_coef $*$ $0$) + (team_Harvard_coef $*$ $1$) + (opponent_Harvard_coef $*$ $0$) + (team_Penn_coef $*$ $0$) + (opponent_Penn_coef $*$ $1$) + (team_Yale_coef $*$ $0$) + (opponent_Yale_coef $*$ $0$) + $\\cdots$\n",
    "\n",
    "Which is just:\n",
    "\n",
    "`scorediff` = (location_coef $*$ $0$) + (7.78 $*$ $1$) + (-6.68 $*$ $1$) = $7.78 - 6.68$ = Harvard_YUSAG_coef - Penn_YUSAG_coef\n",
    "\n",
    "Thus showing how the difference in YUSAG coefficients is the same as the predicted score differential. Furthermore, the higher YUSAG coefficient a team has, the better they are.\n",
    "\n",
    "Lastly, if the Harvard-Penn game was to be home at Penn, we would just add the location_coef:\n",
    "\n",
    "`scorediff` = (location_coef $*$ $1$) + (team_Harvard_coef $*$ $1$) + (opponent_Penn_coef $*$ $1$) = $1.77 + 7.78 - 6.68$ = Location_coef + Harvard_YUSAG_coef - Penn_YUSAG_coef\n"
   ]
  },
  {
   "cell_type": "code",
   "execution_count": 19,
   "metadata": {
    "collapsed": false
   },
   "outputs": [
    {
     "data": {
      "text/html": [
       "<div>\n",
       "<table border=\"1\" class=\"dataframe\">\n",
       "  <thead>\n",
       "    <tr style=\"text-align: right;\">\n",
       "      <th></th>\n",
       "      <th>feature</th>\n",
       "      <th>feature_coef</th>\n",
       "    </tr>\n",
       "  </thead>\n",
       "  <tbody>\n",
       "    <tr>\n",
       "      <th>0</th>\n",
       "      <td>location</td>\n",
       "      <td>1.774815</td>\n",
       "    </tr>\n",
       "    <tr>\n",
       "      <th>1</th>\n",
       "      <td>team_Abilene Christian</td>\n",
       "      <td>-9.894031</td>\n",
       "    </tr>\n",
       "    <tr>\n",
       "      <th>2</th>\n",
       "      <td>team_Alabama A&amp;M</td>\n",
       "      <td>-24.774511</td>\n",
       "    </tr>\n",
       "    <tr>\n",
       "      <th>3</th>\n",
       "      <td>team_Alabama St.</td>\n",
       "      <td>-20.492633</td>\n",
       "    </tr>\n",
       "    <tr>\n",
       "      <th>4</th>\n",
       "      <td>team_Albany (NY)</td>\n",
       "      <td>8.625223</td>\n",
       "    </tr>\n",
       "  </tbody>\n",
       "</table>\n",
       "</div>"
      ],
      "text/plain": [
       "                  feature  feature_coef\n",
       "0                location      1.774815\n",
       "1  team_Abilene Christian     -9.894031\n",
       "2        team_Alabama A&M    -24.774511\n",
       "3        team_Alabama St.    -20.492633\n",
       "4        team_Albany (NY)      8.625223"
      ]
     },
     "execution_count": 19,
     "metadata": {},
     "output_type": "execute_result"
    }
   ],
   "source": [
    "# get the coefficients for each feature\n",
    "coef_data = list(zip(X.columns,ridge_reg.coef_))\n",
    "coef_df = pd.DataFrame(coef_data,columns=['feature','feature_coef'])\n",
    "coef_df.head()"
   ]
  },
  {
   "cell_type": "markdown",
   "metadata": {},
   "source": [
    "Let's get only the team variables, so that it is a proper ranking"
   ]
  },
  {
   "cell_type": "code",
   "execution_count": 20,
   "metadata": {
    "collapsed": true
   },
   "outputs": [],
   "source": [
    "# first get rid of opponent_ variables\n",
    "team_df = coef_df[~coef_df['feature'].str.contains(\"opponent\")]\n",
    "\n",
    "# get rid of the location variable\n",
    "team_df = team_df.iloc[1:]"
   ]
  },
  {
   "cell_type": "code",
   "execution_count": 21,
   "metadata": {
    "collapsed": false
   },
   "outputs": [
    {
     "data": {
      "text/html": [
       "<div>\n",
       "<table border=\"1\" class=\"dataframe\">\n",
       "  <thead>\n",
       "    <tr style=\"text-align: right;\">\n",
       "      <th></th>\n",
       "      <th>feature</th>\n",
       "      <th>feature_coef</th>\n",
       "    </tr>\n",
       "  </thead>\n",
       "  <tbody>\n",
       "    <tr>\n",
       "      <th>1</th>\n",
       "      <td>team_Abilene Christian</td>\n",
       "      <td>-9.894031</td>\n",
       "    </tr>\n",
       "    <tr>\n",
       "      <th>2</th>\n",
       "      <td>team_Alabama A&amp;M</td>\n",
       "      <td>-24.774511</td>\n",
       "    </tr>\n",
       "    <tr>\n",
       "      <th>3</th>\n",
       "      <td>team_Alabama St.</td>\n",
       "      <td>-20.492633</td>\n",
       "    </tr>\n",
       "    <tr>\n",
       "      <th>4</th>\n",
       "      <td>team_Albany (NY)</td>\n",
       "      <td>8.625223</td>\n",
       "    </tr>\n",
       "    <tr>\n",
       "      <th>5</th>\n",
       "      <td>team_Alcorn</td>\n",
       "      <td>-7.798656</td>\n",
       "    </tr>\n",
       "  </tbody>\n",
       "</table>\n",
       "</div>"
      ],
      "text/plain": [
       "                  feature  feature_coef\n",
       "1  team_Abilene Christian     -9.894031\n",
       "2        team_Alabama A&M    -24.774511\n",
       "3        team_Alabama St.    -20.492633\n",
       "4        team_Albany (NY)      8.625223\n",
       "5             team_Alcorn     -7.798656"
      ]
     },
     "execution_count": 21,
     "metadata": {},
     "output_type": "execute_result"
    }
   ],
   "source": [
    "team_df.head()"
   ]
  },
  {
   "cell_type": "code",
   "execution_count": 22,
   "metadata": {
    "collapsed": false
   },
   "outputs": [],
   "source": [
    "# rank them by coef, not alphabetical order\n",
    "ranked_team_df = team_df.sort_values(['feature_coef'],ascending=False)\n",
    "# reset the indices at 0\n",
    "ranked_team_df = ranked_team_df.reset_index(drop=True);"
   ]
  },
  {
   "cell_type": "code",
   "execution_count": 23,
   "metadata": {
    "collapsed": false
   },
   "outputs": [
    {
     "data": {
      "text/html": [
       "<div>\n",
       "<table border=\"1\" class=\"dataframe\">\n",
       "  <thead>\n",
       "    <tr style=\"text-align: right;\">\n",
       "      <th></th>\n",
       "      <th>feature</th>\n",
       "      <th>feature_coef</th>\n",
       "    </tr>\n",
       "  </thead>\n",
       "  <tbody>\n",
       "    <tr>\n",
       "      <th>0</th>\n",
       "      <td>team_James Madison</td>\n",
       "      <td>33.913687</td>\n",
       "    </tr>\n",
       "    <tr>\n",
       "      <th>1</th>\n",
       "      <td>team_North Dakota St.</td>\n",
       "      <td>31.681034</td>\n",
       "    </tr>\n",
       "    <tr>\n",
       "      <th>2</th>\n",
       "      <td>team_UNI</td>\n",
       "      <td>24.165642</td>\n",
       "    </tr>\n",
       "    <tr>\n",
       "      <th>3</th>\n",
       "      <td>team_Eastern Wash.</td>\n",
       "      <td>23.687390</td>\n",
       "    </tr>\n",
       "    <tr>\n",
       "      <th>4</th>\n",
       "      <td>team_South Dakota St.</td>\n",
       "      <td>22.873590</td>\n",
       "    </tr>\n",
       "  </tbody>\n",
       "</table>\n",
       "</div>"
      ],
      "text/plain": [
       "                 feature  feature_coef\n",
       "0     team_James Madison     33.913687\n",
       "1  team_North Dakota St.     31.681034\n",
       "2               team_UNI     24.165642\n",
       "3     team_Eastern Wash.     23.687390\n",
       "4  team_South Dakota St.     22.873590"
      ]
     },
     "execution_count": 23,
     "metadata": {},
     "output_type": "execute_result"
    }
   ],
   "source": [
    "ranked_team_df.head()"
   ]
  },
  {
   "cell_type": "markdown",
   "metadata": {},
   "source": [
    "I'm goint to change the name of the columns and remove the 'team_' part of every string:"
   ]
  },
  {
   "cell_type": "code",
   "execution_count": 24,
   "metadata": {
    "collapsed": true
   },
   "outputs": [],
   "source": [
    "ranked_team_df.rename(columns={'feature':'team', 'feature_coef':'YUSAG_coef'}, inplace=True)\n",
    "ranked_team_df['team'] = ranked_team_df['team'].str.replace('team_', '')"
   ]
  },
  {
   "cell_type": "code",
   "execution_count": 25,
   "metadata": {
    "collapsed": false
   },
   "outputs": [
    {
     "data": {
      "text/html": [
       "<div>\n",
       "<table border=\"1\" class=\"dataframe\">\n",
       "  <thead>\n",
       "    <tr style=\"text-align: right;\">\n",
       "      <th></th>\n",
       "      <th>team</th>\n",
       "      <th>YUSAG_coef</th>\n",
       "    </tr>\n",
       "  </thead>\n",
       "  <tbody>\n",
       "    <tr>\n",
       "      <th>0</th>\n",
       "      <td>James Madison</td>\n",
       "      <td>33.913687</td>\n",
       "    </tr>\n",
       "    <tr>\n",
       "      <th>1</th>\n",
       "      <td>North Dakota St.</td>\n",
       "      <td>31.681034</td>\n",
       "    </tr>\n",
       "    <tr>\n",
       "      <th>2</th>\n",
       "      <td>UNI</td>\n",
       "      <td>24.165642</td>\n",
       "    </tr>\n",
       "    <tr>\n",
       "      <th>3</th>\n",
       "      <td>Eastern Wash.</td>\n",
       "      <td>23.687390</td>\n",
       "    </tr>\n",
       "    <tr>\n",
       "      <th>4</th>\n",
       "      <td>South Dakota St.</td>\n",
       "      <td>22.873590</td>\n",
       "    </tr>\n",
       "  </tbody>\n",
       "</table>\n",
       "</div>"
      ],
      "text/plain": [
       "               team  YUSAG_coef\n",
       "0     James Madison   33.913687\n",
       "1  North Dakota St.   31.681034\n",
       "2               UNI   24.165642\n",
       "3     Eastern Wash.   23.687390\n",
       "4  South Dakota St.   22.873590"
      ]
     },
     "execution_count": 25,
     "metadata": {},
     "output_type": "execute_result"
    }
   ],
   "source": [
    "ranked_team_df.head()"
   ]
  },
  {
   "cell_type": "markdown",
   "metadata": {},
   "source": [
    "Let's also look at the Ivy league teams specifically:"
   ]
  },
  {
   "cell_type": "code",
   "execution_count": 26,
   "metadata": {
    "collapsed": false
   },
   "outputs": [],
   "source": [
    "ivy_team_names = ['Yale','Harvard','Princeton','Cornell','Brown','Columbia','Dartmouth','Penn']\n",
    "ivy_ranked_team_df = ranked_team_df[ranked_team_df['team'].isin(ivy_team_names)]"
   ]
  },
  {
   "cell_type": "code",
   "execution_count": 27,
   "metadata": {
    "collapsed": false
   },
   "outputs": [
    {
     "data": {
      "text/html": [
       "<div>\n",
       "<table border=\"1\" class=\"dataframe\">\n",
       "  <thead>\n",
       "    <tr style=\"text-align: right;\">\n",
       "      <th></th>\n",
       "      <th>team</th>\n",
       "      <th>YUSAG_coef</th>\n",
       "    </tr>\n",
       "  </thead>\n",
       "  <tbody>\n",
       "    <tr>\n",
       "      <th>19</th>\n",
       "      <td>Princeton</td>\n",
       "      <td>13.971680</td>\n",
       "    </tr>\n",
       "    <tr>\n",
       "      <th>39</th>\n",
       "      <td>Harvard</td>\n",
       "      <td>7.776762</td>\n",
       "    </tr>\n",
       "    <tr>\n",
       "      <th>41</th>\n",
       "      <td>Penn</td>\n",
       "      <td>6.876865</td>\n",
       "    </tr>\n",
       "    <tr>\n",
       "      <th>54</th>\n",
       "      <td>Dartmouth</td>\n",
       "      <td>4.592076</td>\n",
       "    </tr>\n",
       "    <tr>\n",
       "      <th>82</th>\n",
       "      <td>Yale</td>\n",
       "      <td>-4.979445</td>\n",
       "    </tr>\n",
       "    <tr>\n",
       "      <th>84</th>\n",
       "      <td>Brown</td>\n",
       "      <td>-6.045899</td>\n",
       "    </tr>\n",
       "    <tr>\n",
       "      <th>87</th>\n",
       "      <td>Columbia</td>\n",
       "      <td>-6.883165</td>\n",
       "    </tr>\n",
       "    <tr>\n",
       "      <th>93</th>\n",
       "      <td>Cornell</td>\n",
       "      <td>-7.825878</td>\n",
       "    </tr>\n",
       "  </tbody>\n",
       "</table>\n",
       "</div>"
      ],
      "text/plain": [
       "         team  YUSAG_coef\n",
       "19  Princeton   13.971680\n",
       "39    Harvard    7.776762\n",
       "41       Penn    6.876865\n",
       "54  Dartmouth    4.592076\n",
       "82       Yale   -4.979445\n",
       "84      Brown   -6.045899\n",
       "87   Columbia   -6.883165\n",
       "93    Cornell   -7.825878"
      ]
     },
     "execution_count": 27,
     "metadata": {},
     "output_type": "execute_result"
    }
   ],
   "source": [
    "ivy_ranked_team_df"
   ]
  },
  {
   "cell_type": "markdown",
   "metadata": {},
   "source": [
    "## Additional stuff: Testing the model\n",
    "\n",
    "This section is mostly about how own could test the performance of the model or how one could choose appropriate hyperparamters.\n",
    "\n",
    "#### Creating a new dataframe\n",
    "\n",
    "First let's take the original dataframe and sort it by date, so that the order of games in the dataframe matches the order the games were played."
   ]
  },
  {
   "cell_type": "code",
   "execution_count": 28,
   "metadata": {
    "collapsed": false
   },
   "outputs": [],
   "source": [
    "# sort by date and reset the indices to 0\n",
    "df_dated = df.sort_values(['year', 'month','day'], ascending=[True, True, True])\n",
    "df_dated = df_dated.reset_index(drop=True)"
   ]
  },
  {
   "cell_type": "code",
   "execution_count": 29,
   "metadata": {
    "collapsed": false
   },
   "outputs": [
    {
     "data": {
      "text/html": [
       "<div>\n",
       "<table border=\"1\" class=\"dataframe\">\n",
       "  <thead>\n",
       "    <tr style=\"text-align: right;\">\n",
       "      <th></th>\n",
       "      <th>year</th>\n",
       "      <th>month</th>\n",
       "      <th>day</th>\n",
       "      <th>team</th>\n",
       "      <th>opponent</th>\n",
       "      <th>location</th>\n",
       "      <th>teamscore</th>\n",
       "      <th>oppscore</th>\n",
       "      <th>OT</th>\n",
       "      <th>D1</th>\n",
       "      <th>...</th>\n",
       "      <th>opponent_Valparaiso</th>\n",
       "      <th>opponent_Villanova</th>\n",
       "      <th>opponent_Wagner</th>\n",
       "      <th>opponent_Weber St.</th>\n",
       "      <th>opponent_Western Caro.</th>\n",
       "      <th>opponent_Western Ill.</th>\n",
       "      <th>opponent_William &amp; Mary</th>\n",
       "      <th>opponent_Wofford</th>\n",
       "      <th>opponent_Yale</th>\n",
       "      <th>opponent_Youngstown St.</th>\n",
       "    </tr>\n",
       "  </thead>\n",
       "  <tbody>\n",
       "    <tr>\n",
       "      <th>0</th>\n",
       "      <td>2013</td>\n",
       "      <td>8</td>\n",
       "      <td>29</td>\n",
       "      <td>Central Ark.</td>\n",
       "      <td>Incarnate Word</td>\n",
       "      <td>1</td>\n",
       "      <td>58</td>\n",
       "      <td>7</td>\n",
       "      <td>0.0</td>\n",
       "      <td>2</td>\n",
       "      <td>...</td>\n",
       "      <td>0</td>\n",
       "      <td>0</td>\n",
       "      <td>0</td>\n",
       "      <td>0</td>\n",
       "      <td>0</td>\n",
       "      <td>0</td>\n",
       "      <td>0</td>\n",
       "      <td>0</td>\n",
       "      <td>0</td>\n",
       "      <td>0</td>\n",
       "    </tr>\n",
       "    <tr>\n",
       "      <th>1</th>\n",
       "      <td>2013</td>\n",
       "      <td>8</td>\n",
       "      <td>29</td>\n",
       "      <td>Chattanooga</td>\n",
       "      <td>UT Martin</td>\n",
       "      <td>1</td>\n",
       "      <td>21</td>\n",
       "      <td>31</td>\n",
       "      <td>0.0</td>\n",
       "      <td>2</td>\n",
       "      <td>...</td>\n",
       "      <td>0</td>\n",
       "      <td>0</td>\n",
       "      <td>0</td>\n",
       "      <td>0</td>\n",
       "      <td>0</td>\n",
       "      <td>0</td>\n",
       "      <td>0</td>\n",
       "      <td>0</td>\n",
       "      <td>0</td>\n",
       "      <td>0</td>\n",
       "    </tr>\n",
       "    <tr>\n",
       "      <th>2</th>\n",
       "      <td>2013</td>\n",
       "      <td>8</td>\n",
       "      <td>29</td>\n",
       "      <td>Dayton</td>\n",
       "      <td>Youngstown St.</td>\n",
       "      <td>-1</td>\n",
       "      <td>10</td>\n",
       "      <td>28</td>\n",
       "      <td>0.0</td>\n",
       "      <td>2</td>\n",
       "      <td>...</td>\n",
       "      <td>0</td>\n",
       "      <td>0</td>\n",
       "      <td>0</td>\n",
       "      <td>0</td>\n",
       "      <td>0</td>\n",
       "      <td>0</td>\n",
       "      <td>0</td>\n",
       "      <td>0</td>\n",
       "      <td>0</td>\n",
       "      <td>1</td>\n",
       "    </tr>\n",
       "    <tr>\n",
       "      <th>3</th>\n",
       "      <td>2013</td>\n",
       "      <td>8</td>\n",
       "      <td>29</td>\n",
       "      <td>Delaware</td>\n",
       "      <td>Jacksonville</td>\n",
       "      <td>1</td>\n",
       "      <td>51</td>\n",
       "      <td>35</td>\n",
       "      <td>0.0</td>\n",
       "      <td>2</td>\n",
       "      <td>...</td>\n",
       "      <td>0</td>\n",
       "      <td>0</td>\n",
       "      <td>0</td>\n",
       "      <td>0</td>\n",
       "      <td>0</td>\n",
       "      <td>0</td>\n",
       "      <td>0</td>\n",
       "      <td>0</td>\n",
       "      <td>0</td>\n",
       "      <td>0</td>\n",
       "    </tr>\n",
       "    <tr>\n",
       "      <th>4</th>\n",
       "      <td>2013</td>\n",
       "      <td>8</td>\n",
       "      <td>29</td>\n",
       "      <td>Eastern Ky.</td>\n",
       "      <td>Robert Morris</td>\n",
       "      <td>1</td>\n",
       "      <td>38</td>\n",
       "      <td>6</td>\n",
       "      <td>0.0</td>\n",
       "      <td>2</td>\n",
       "      <td>...</td>\n",
       "      <td>0</td>\n",
       "      <td>0</td>\n",
       "      <td>0</td>\n",
       "      <td>0</td>\n",
       "      <td>0</td>\n",
       "      <td>0</td>\n",
       "      <td>0</td>\n",
       "      <td>0</td>\n",
       "      <td>0</td>\n",
       "      <td>0</td>\n",
       "    </tr>\n",
       "  </tbody>\n",
       "</table>\n",
       "<p>5 rows × 264 columns</p>\n",
       "</div>"
      ],
      "text/plain": [
       "   year  month  day          team        opponent  location  teamscore  \\\n",
       "0  2013      8   29  Central Ark.  Incarnate Word         1         58   \n",
       "1  2013      8   29   Chattanooga       UT Martin         1         21   \n",
       "2  2013      8   29        Dayton  Youngstown St.        -1         10   \n",
       "3  2013      8   29      Delaware    Jacksonville         1         51   \n",
       "4  2013      8   29   Eastern Ky.   Robert Morris         1         38   \n",
       "\n",
       "   oppscore   OT  D1           ...             opponent_Valparaiso  \\\n",
       "0         7  0.0   2           ...                               0   \n",
       "1        31  0.0   2           ...                               0   \n",
       "2        28  0.0   2           ...                               0   \n",
       "3        35  0.0   2           ...                               0   \n",
       "4         6  0.0   2           ...                               0   \n",
       "\n",
       "   opponent_Villanova  opponent_Wagner  opponent_Weber St.  \\\n",
       "0                   0                0                   0   \n",
       "1                   0                0                   0   \n",
       "2                   0                0                   0   \n",
       "3                   0                0                   0   \n",
       "4                   0                0                   0   \n",
       "\n",
       "   opponent_Western Caro.  opponent_Western Ill.  opponent_William & Mary  \\\n",
       "0                       0                      0                        0   \n",
       "1                       0                      0                        0   \n",
       "2                       0                      0                        0   \n",
       "3                       0                      0                        0   \n",
       "4                       0                      0                        0   \n",
       "\n",
       "   opponent_Wofford  opponent_Yale  opponent_Youngstown St.  \n",
       "0                 0              0                        0  \n",
       "1                 0              0                        0  \n",
       "2                 0              0                        1  \n",
       "3                 0              0                        0  \n",
       "4                 0              0                        0  \n",
       "\n",
       "[5 rows x 264 columns]"
      ]
     },
     "execution_count": 29,
     "metadata": {},
     "output_type": "execute_result"
    }
   ],
   "source": [
    "df_dated.head()"
   ]
  },
  {
   "cell_type": "markdown",
   "metadata": {},
   "source": [
    "Let's first make a dataframe with training data (the first three years of results)"
   ]
  },
  {
   "cell_type": "code",
   "execution_count": 30,
   "metadata": {
    "collapsed": true
   },
   "outputs": [],
   "source": [
    "thirteen_df = df_dated.loc[df_dated['year']==2013]\n",
    "fourteen_df = df_dated.loc[df_dated['year']==2014]\n",
    "fifteen_df = df_dated.loc[df_dated['year']==2015]\n",
    "\n",
    "train_df = pd.concat([thirteen_df,fourteen_df,fifteen_df], ignore_index=True)"
   ]
  },
  {
   "cell_type": "markdown",
   "metadata": {},
   "source": [
    "Now let's make an initial testing dataframe with the data from this past year."
   ]
  },
  {
   "cell_type": "code",
   "execution_count": 31,
   "metadata": {
    "collapsed": false
   },
   "outputs": [],
   "source": [
    "sixteen_df = df_dated.loc[df_dated['year']==2016]\n",
    "seventeen_df = df_dated.loc[df_dated['year']==2017]\n",
    "\n",
    "test_df = pd.concat([sixteen_df,seventeen_df], ignore_index=True)"
   ]
  },
  {
   "cell_type": "markdown",
   "metadata": {},
   "source": [
    "I am now going to set up a testing/validation scheme for the model. It works like this:\n",
    "\n",
    "First I start off where my training data is all games from 2012-2015. Using the model trained on this data, I then predict games from the first week of the 2016 season and look at the results.\n",
    "\n",
    "Next, I add that first week's worth of games to the training data, and now I train on all 2012-2015 results plus the first week from 2016. After training the model on this data, I then test on the second week of games. I then add that week's games to the training data and repeat the same procedure week after week.\n",
    "\n",
    "In this way, I am never testing on a result that I have trained on. Though, it should be noted that I have also used this as a validation scheme, so I have technically done some sloppy 'data snooping' and this is not a great predictor of my generalization error. "
   ]
  },
  {
   "cell_type": "code",
   "execution_count": 32,
   "metadata": {
    "collapsed": true
   },
   "outputs": [],
   "source": [
    "def train_test_model(train_df, test_df):\n",
    "\n",
    "    # make the training data\n",
    "    X_train = train_df.drop(['year','month','day','team','opponent','teamscore','oppscore','D1','OT','weights','scorediff'], axis=1)\n",
    "    y_train = train_df['scorediff']\n",
    "    weights_train = train_df['weights']\n",
    "    \n",
    "    # train the model\n",
    "    ridge_reg = Ridge()\n",
    "    ridge_reg.fit(X_train, y_train, weights_train)\n",
    "    fit = ridge_reg.score(X_train,y_train,sample_weight=weights_train)\n",
    "    print('R^2 on the training data:')\n",
    "    print(fit)\n",
    "    \n",
    "    # get the test data\n",
    "    X_test = test_df.drop(['year','month','day','team','opponent','teamscore','oppscore','D1','OT','weights','scorediff'], axis=1)\n",
    "    y_test = test_df['scorediff']\n",
    "    \n",
    "    # get the metrics\n",
    "    compare_data = list(zip(ridge_reg.predict(X_test),y_test))\n",
    "    \n",
    "    right_count = 0\n",
    "    for tpl in compare_data:\n",
    "        if tpl[0] >= 0 and tpl[1] >=0:\n",
    "            right_count = right_count + 1\n",
    "        elif tpl[0] <= 0 and tpl[1] <=0:\n",
    "            right_count = right_count + 1\n",
    "    accuracy = right_count/len(compare_data)\n",
    "    print('accuracy on this weeks games')\n",
    "    print(right_count/len(compare_data))\n",
    "    \n",
    "    total_squared_error = 0.0\n",
    "    for tpl in compare_data:\n",
    "        total_squared_error = total_squared_error + (tpl[0]-tpl[1])**2\n",
    "    RMSE = (total_squared_error / float(len(compare_data)))**(0.5)\n",
    "    print('RMSE on this weeks games:')\n",
    "    print(RMSE)\n",
    "    \n",
    "    return fit, accuracy, RMSE, right_count, total_squared_error\n",
    "     "
   ]
  },
  {
   "cell_type": "code",
   "execution_count": 33,
   "metadata": {
    "collapsed": false
   },
   "outputs": [
    {
     "name": "stdout",
     "output_type": "stream",
     "text": [
      "R^2 on the training data:\n",
      "0.592540740738\n",
      "accuracy on this weeks games\n",
      "1.0\n",
      "RMSE on this weeks games:\n",
      "19.4241759023\n",
      "R^2 on the training data:\n",
      "0.59319110015\n",
      "accuracy on this weeks games\n",
      "1.0\n",
      "RMSE on this weeks games:\n",
      "17.0479673507\n",
      "R^2 on the training data:\n",
      "0.591611403012\n",
      "accuracy on this weeks games\n",
      "1.0\n",
      "RMSE on this weeks games:\n",
      "11.2788317764\n",
      "R^2 on the training data:\n",
      "0.605692833023\n",
      "accuracy on this weeks games\n",
      "0.0\n",
      "RMSE on this weeks games:\n",
      "18.3944877773\n",
      "R^2 on the training data:\n",
      "0.604525852416\n",
      "accuracy on this weeks games\n",
      "0.75\n",
      "RMSE on this weeks games:\n",
      "22.7547439513\n",
      "R^2 on the training data:\n",
      "0.609569742749\n",
      "accuracy on this weeks games\n",
      "1.0\n",
      "RMSE on this weeks games:\n",
      "22.7160325127\n",
      "R^2 on the training data:\n",
      "0.606949241101\n",
      "accuracy on this weeks games\n",
      "0.0\n",
      "RMSE on this weeks games:\n",
      "16.9342332704\n",
      "R^2 on the training data:\n",
      "0.605534917407\n",
      "accuracy on this weeks games\n",
      "0.8857142857142857\n",
      "RMSE on this weeks games:\n",
      "12.396990105\n",
      "R^2 on the training data:\n",
      "0.616584326685\n",
      "accuracy on this weeks games\n",
      "0.0\n",
      "RMSE on this weeks games:\n",
      "40.75097153\n",
      "R^2 on the training data:\n",
      "0.608311172631\n",
      "accuracy on this weeks games\n",
      "1.0\n",
      "RMSE on this weeks games:\n",
      "5.40871662781\n",
      "R^2 on the training data:\n",
      "0.610617155484\n",
      "accuracy on this weeks games\n",
      "0.5945945945945946\n",
      "RMSE on this weeks games:\n",
      "19.3707084719\n",
      "R^2 on the training data:\n",
      "0.586148001575\n",
      "accuracy on this weeks games\n",
      "0.7708333333333334\n",
      "RMSE on this weeks games:\n",
      "14.0624828081\n",
      "R^2 on the training data:\n",
      "0.581411809984\n",
      "accuracy on this weeks games\n",
      "1.0\n",
      "RMSE on this weeks games:\n",
      "10.9902656082\n",
      "R^2 on the training data:\n",
      "0.582080110724\n",
      "accuracy on this weeks games\n",
      "0.5\n",
      "RMSE on this weeks games:\n",
      "24.9018127637\n",
      "R^2 on the training data:\n",
      "0.577640363123\n",
      "accuracy on this weeks games\n",
      "0.7058823529411765\n",
      "RMSE on this weeks games:\n",
      "16.6386364613\n",
      "R^2 on the training data:\n",
      "0.56954833867\n",
      "accuracy on this weeks games\n",
      "1.0\n",
      "RMSE on this weeks games:\n",
      "12.224186587\n",
      "R^2 on the training data:\n",
      "0.57167844007\n",
      "accuracy on this weeks games\n",
      "1.0\n",
      "RMSE on this weeks games:\n",
      "11.9194677355\n",
      "R^2 on the training data:\n",
      "0.571121505822\n",
      "accuracy on this weeks games\n",
      "0.7708333333333334\n",
      "RMSE on this weeks games:\n",
      "12.6023348914\n",
      "R^2 on the training data:\n",
      "0.581810059329\n",
      "accuracy on this weeks games\n",
      "0.0\n",
      "RMSE on this weeks games:\n",
      "8.12581243101\n",
      "R^2 on the training data:\n",
      "0.58161000421\n",
      "accuracy on this weeks games\n",
      "0.8545454545454545\n",
      "RMSE on this weeks games:\n",
      "16.0967457232\n",
      "R^2 on the training data:\n",
      "0.576855741308\n",
      "accuracy on this weeks games\n",
      "1.0\n",
      "RMSE on this weeks games:\n",
      "20.9383265082\n",
      "R^2 on the training data:\n",
      "0.576080280992\n",
      "accuracy on this weeks games\n",
      "0.7307692307692307\n",
      "RMSE on this weeks games:\n",
      "13.2391510226\n",
      "R^2 on the training data:\n",
      "0.581705784949\n",
      "accuracy on this weeks games\n",
      "1.0\n",
      "RMSE on this weeks games:\n",
      "6.9512219511\n",
      "R^2 on the training data:\n",
      "0.581657833723\n",
      "accuracy on this weeks games\n",
      "0.7454545454545455\n",
      "RMSE on this weeks games:\n",
      "16.6609828345\n",
      "R^2 on the training data:\n",
      "0.584769669199\n",
      "accuracy on this weeks games\n",
      "0.0\n",
      "RMSE on this weeks games:\n",
      "33.5041373421\n",
      "R^2 on the training data:\n",
      "0.582488684832\n",
      "accuracy on this weeks games\n",
      "0.8148148148148148\n",
      "RMSE on this weeks games:\n",
      "13.3591327389\n",
      "R^2 on the training data:\n",
      "0.57633275797\n",
      "accuracy on this weeks games\n",
      "0.0\n",
      "RMSE on this weeks games:\n",
      "16.7986906445\n",
      "R^2 on the training data:\n",
      "0.57578020086\n",
      "accuracy on this weeks games\n",
      "0.6785714285714286\n",
      "RMSE on this weeks games:\n",
      "15.8820530075\n",
      "R^2 on the training data:\n",
      "0.570189539141\n",
      "accuracy on this weeks games\n",
      "1.0\n",
      "RMSE on this weeks games:\n",
      "5.46640294645\n",
      "R^2 on the training data:\n",
      "0.570041986829\n",
      "accuracy on this weeks games\n",
      "1.0\n",
      "RMSE on this weeks games:\n",
      "9.22683269814\n",
      "R^2 on the training data:\n",
      "0.569883115785\n",
      "accuracy on this weeks games\n",
      "0.74\n",
      "RMSE on this weeks games:\n",
      "17.0593112733\n",
      "R^2 on the training data:\n",
      "0.5688732647\n",
      "accuracy on this weeks games\n",
      "0.6363636363636364\n",
      "RMSE on this weeks games:\n",
      "18.7377102936\n",
      "R^2 on the training data:\n",
      "0.566147039124\n",
      "accuracy on this weeks games\n",
      "0.7777777777777778\n",
      "RMSE on this weeks games:\n",
      "12.2469891954\n",
      "R^2 on the training data:\n",
      "0.566989934638\n",
      "accuracy on this weeks games\n",
      "1.0\n",
      "RMSE on this weeks games:\n",
      "49.4629953653\n",
      "R^2 on the training data:\n",
      "0.565649693281\n",
      "accuracy on this weeks games\n",
      "1.0\n",
      "RMSE on this weeks games:\n",
      "20.1573232451\n",
      "R^2 on the training data:\n",
      "0.565421258232\n",
      "accuracy on this weeks games\n",
      "0.0\n",
      "RMSE on this weeks games:\n",
      "12.5766388896\n",
      "R^2 on the training data:\n",
      "0.565163509968\n",
      "accuracy on this weeks games\n",
      "0.5\n",
      "RMSE on this weeks games:\n",
      "5.90919570509\n"
     ]
    }
   ],
   "source": [
    "#Now the code for running the week by week testing.\n",
    "base_df = train_df\n",
    "new_indices = []\n",
    "# this is the hash for the first date\n",
    "last_date_hash = 2026\n",
    "\n",
    "fit_list = []\n",
    "accuracy_list = []\n",
    "RMSE_list = []\n",
    "total_squared_error = 0\n",
    "total_right_count = 0\n",
    "\n",
    "for index, row in test_df.iterrows():\n",
    "    \n",
    "    year = row['year']\n",
    "    month = row['month']\n",
    "    day = row['day']\n",
    "    date_hash = year+month+day \n",
    "    \n",
    "    if date_hash != last_date_hash:\n",
    "        last_date_hash = date_hash\n",
    "        test_week = test_df.iloc[new_indices]\n",
    "        fit, accuracy, RMSE, correct_calls, squared_error = train_test_model(base_df,test_week)\n",
    "        \n",
    "        fit_list.append(fit)\n",
    "        accuracy_list.append(accuracy)\n",
    "        RMSE_list.append(RMSE)\n",
    "        \n",
    "        total_squared_error = total_squared_error + squared_error\n",
    "        total_right_count = total_right_count + correct_calls\n",
    "        \n",
    "        base_df = pd.concat([base_df,test_week],ignore_index=True)\n",
    "        new_indices = [index]\n",
    "        \n",
    "    else:\n",
    "        new_indices.append(index)"
   ]
  },
  {
   "cell_type": "code",
   "execution_count": 34,
   "metadata": {
    "collapsed": false
   },
   "outputs": [
    {
     "data": {
      "text/plain": [
       "0.7504105090311987"
      ]
     },
     "execution_count": 34,
     "metadata": {},
     "output_type": "execute_result"
    }
   ],
   "source": [
    "total_accuracy = total_right_count/test_df.shape[0]\n",
    "total_accuracy"
   ]
  },
  {
   "cell_type": "code",
   "execution_count": 35,
   "metadata": {
    "collapsed": false
   },
   "outputs": [
    {
     "data": {
      "text/plain": [
       "15.76430083534868"
      ]
     },
     "execution_count": 35,
     "metadata": {},
     "output_type": "execute_result"
    }
   ],
   "source": [
    "overall_RMSE = (total_squared_error/test_df.shape[0])**(0.5)\n",
    "overall_RMSE"
   ]
  },
  {
   "cell_type": "markdown",
   "metadata": {},
   "source": [
    "## Using the model to predict win probabilities"
   ]
  },
  {
   "cell_type": "markdown",
   "metadata": {},
   "source": [
    "First, let's figure out how the predicted score differentials translate into percentages."
   ]
  },
  {
   "cell_type": "code",
   "execution_count": 36,
   "metadata": {
    "collapsed": false
   },
   "outputs": [
    {
     "data": {
      "text/html": [
       "<div>\n",
       "<table border=\"1\" class=\"dataframe\">\n",
       "  <thead>\n",
       "    <tr style=\"text-align: right;\">\n",
       "      <th></th>\n",
       "      <th>year</th>\n",
       "      <th>month</th>\n",
       "      <th>day</th>\n",
       "      <th>team</th>\n",
       "      <th>opponent</th>\n",
       "      <th>location</th>\n",
       "      <th>teamscore</th>\n",
       "      <th>oppscore</th>\n",
       "      <th>OT</th>\n",
       "      <th>D1</th>\n",
       "      <th>...</th>\n",
       "      <th>opponent_Valparaiso</th>\n",
       "      <th>opponent_Villanova</th>\n",
       "      <th>opponent_Wagner</th>\n",
       "      <th>opponent_Weber St.</th>\n",
       "      <th>opponent_Western Caro.</th>\n",
       "      <th>opponent_Western Ill.</th>\n",
       "      <th>opponent_William &amp; Mary</th>\n",
       "      <th>opponent_Wofford</th>\n",
       "      <th>opponent_Yale</th>\n",
       "      <th>opponent_Youngstown St.</th>\n",
       "    </tr>\n",
       "  </thead>\n",
       "  <tbody>\n",
       "    <tr>\n",
       "      <th>0</th>\n",
       "      <td>2013</td>\n",
       "      <td>9</td>\n",
       "      <td>21</td>\n",
       "      <td>Abilene Christian</td>\n",
       "      <td>Illinois St.</td>\n",
       "      <td>-1</td>\n",
       "      <td>17</td>\n",
       "      <td>31</td>\n",
       "      <td>0.0</td>\n",
       "      <td>2</td>\n",
       "      <td>...</td>\n",
       "      <td>0</td>\n",
       "      <td>0</td>\n",
       "      <td>0</td>\n",
       "      <td>0</td>\n",
       "      <td>0</td>\n",
       "      <td>0</td>\n",
       "      <td>0</td>\n",
       "      <td>0</td>\n",
       "      <td>0</td>\n",
       "      <td>0</td>\n",
       "    </tr>\n",
       "    <tr>\n",
       "      <th>1</th>\n",
       "      <td>2013</td>\n",
       "      <td>10</td>\n",
       "      <td>12</td>\n",
       "      <td>Abilene Christian</td>\n",
       "      <td>Houston Baptist</td>\n",
       "      <td>-1</td>\n",
       "      <td>69</td>\n",
       "      <td>12</td>\n",
       "      <td>0.0</td>\n",
       "      <td>2</td>\n",
       "      <td>...</td>\n",
       "      <td>0</td>\n",
       "      <td>0</td>\n",
       "      <td>0</td>\n",
       "      <td>0</td>\n",
       "      <td>0</td>\n",
       "      <td>0</td>\n",
       "      <td>0</td>\n",
       "      <td>0</td>\n",
       "      <td>0</td>\n",
       "      <td>0</td>\n",
       "    </tr>\n",
       "    <tr>\n",
       "      <th>2</th>\n",
       "      <td>2013</td>\n",
       "      <td>10</td>\n",
       "      <td>19</td>\n",
       "      <td>Abilene Christian</td>\n",
       "      <td>Incarnate Word</td>\n",
       "      <td>1</td>\n",
       "      <td>40</td>\n",
       "      <td>6</td>\n",
       "      <td>0.0</td>\n",
       "      <td>2</td>\n",
       "      <td>...</td>\n",
       "      <td>0</td>\n",
       "      <td>0</td>\n",
       "      <td>0</td>\n",
       "      <td>0</td>\n",
       "      <td>0</td>\n",
       "      <td>0</td>\n",
       "      <td>0</td>\n",
       "      <td>0</td>\n",
       "      <td>0</td>\n",
       "      <td>0</td>\n",
       "    </tr>\n",
       "    <tr>\n",
       "      <th>3</th>\n",
       "      <td>2013</td>\n",
       "      <td>11</td>\n",
       "      <td>9</td>\n",
       "      <td>Abilene Christian</td>\n",
       "      <td>Incarnate Word</td>\n",
       "      <td>-1</td>\n",
       "      <td>31</td>\n",
       "      <td>34</td>\n",
       "      <td>0.0</td>\n",
       "      <td>2</td>\n",
       "      <td>...</td>\n",
       "      <td>0</td>\n",
       "      <td>0</td>\n",
       "      <td>0</td>\n",
       "      <td>0</td>\n",
       "      <td>0</td>\n",
       "      <td>0</td>\n",
       "      <td>0</td>\n",
       "      <td>0</td>\n",
       "      <td>0</td>\n",
       "      <td>0</td>\n",
       "    </tr>\n",
       "    <tr>\n",
       "      <th>4</th>\n",
       "      <td>2013</td>\n",
       "      <td>11</td>\n",
       "      <td>16</td>\n",
       "      <td>Abilene Christian</td>\n",
       "      <td>Prairie View</td>\n",
       "      <td>-1</td>\n",
       "      <td>65</td>\n",
       "      <td>45</td>\n",
       "      <td>0.0</td>\n",
       "      <td>2</td>\n",
       "      <td>...</td>\n",
       "      <td>0</td>\n",
       "      <td>0</td>\n",
       "      <td>0</td>\n",
       "      <td>0</td>\n",
       "      <td>0</td>\n",
       "      <td>0</td>\n",
       "      <td>0</td>\n",
       "      <td>0</td>\n",
       "      <td>0</td>\n",
       "      <td>0</td>\n",
       "    </tr>\n",
       "  </tbody>\n",
       "</table>\n",
       "<p>5 rows × 264 columns</p>\n",
       "</div>"
      ],
      "text/plain": [
       "   year  month  day               team         opponent  location  teamscore  \\\n",
       "0  2013      9   21  Abilene Christian     Illinois St.        -1         17   \n",
       "1  2013     10   12  Abilene Christian  Houston Baptist        -1         69   \n",
       "2  2013     10   19  Abilene Christian   Incarnate Word         1         40   \n",
       "3  2013     11    9  Abilene Christian   Incarnate Word        -1         31   \n",
       "4  2013     11   16  Abilene Christian     Prairie View        -1         65   \n",
       "\n",
       "   oppscore   OT  D1           ...             opponent_Valparaiso  \\\n",
       "0        31  0.0   2           ...                               0   \n",
       "1        12  0.0   2           ...                               0   \n",
       "2         6  0.0   2           ...                               0   \n",
       "3        34  0.0   2           ...                               0   \n",
       "4        45  0.0   2           ...                               0   \n",
       "\n",
       "   opponent_Villanova  opponent_Wagner  opponent_Weber St.  \\\n",
       "0                   0                0                   0   \n",
       "1                   0                0                   0   \n",
       "2                   0                0                   0   \n",
       "3                   0                0                   0   \n",
       "4                   0                0                   0   \n",
       "\n",
       "   opponent_Western Caro.  opponent_Western Ill.  opponent_William & Mary  \\\n",
       "0                       0                      0                        0   \n",
       "1                       0                      0                        0   \n",
       "2                       0                      0                        0   \n",
       "3                       0                      0                        0   \n",
       "4                       0                      0                        0   \n",
       "\n",
       "   opponent_Wofford  opponent_Yale  opponent_Youngstown St.  \n",
       "0                 0              0                        0  \n",
       "1                 0              0                        0  \n",
       "2                 0              0                        0  \n",
       "3                 0              0                        0  \n",
       "4                 0              0                        0  \n",
       "\n",
       "[5 rows x 264 columns]"
      ]
     },
     "execution_count": 36,
     "metadata": {},
     "output_type": "execute_result"
    }
   ],
   "source": [
    "df.head()"
   ]
  },
  {
   "cell_type": "code",
   "execution_count": 37,
   "metadata": {
    "collapsed": true
   },
   "outputs": [],
   "source": [
    "# make the training data\n",
    "X = df.drop(['year','month','day','team','opponent','teamscore','oppscore','D1','OT','weights','scorediff'], axis=1)\n",
    "y = df['scorediff']\n",
    "weights = df['weights']"
   ]
  },
  {
   "cell_type": "code",
   "execution_count": 38,
   "metadata": {
    "collapsed": false
   },
   "outputs": [
    {
     "data": {
      "text/plain": [
       "Ridge(alpha=1.0, copy_X=True, fit_intercept=True, max_iter=None,\n",
       "   normalize=False, random_state=None, solver='auto', tol=0.001)"
      ]
     },
     "execution_count": 38,
     "metadata": {},
     "output_type": "execute_result"
    }
   ],
   "source": [
    "from sklearn.linear_model import Ridge\n",
    "ridge_reg = Ridge()\n",
    "ridge_reg.fit(X, y, sample_weight=weights)"
   ]
  },
  {
   "cell_type": "code",
   "execution_count": 39,
   "metadata": {
    "collapsed": false
   },
   "outputs": [],
   "source": [
    "df['predscorediff'] = ridge_reg.predict(X)"
   ]
  },
  {
   "cell_type": "code",
   "execution_count": 40,
   "metadata": {
    "collapsed": true
   },
   "outputs": [],
   "source": [
    "df['predscorediff'] = df['predscorediff'].apply(lambda x: round(x,1))"
   ]
  },
  {
   "cell_type": "markdown",
   "metadata": {},
   "source": [
    "I'm only going to train the point spread to percentages model on the most recent data b/c that's what the YUSAG prediction model is more optimized for. I.e. the predictions are not great when you go back a couple of years since we weights more recent results more heavily."
   ]
  },
  {
   "cell_type": "code",
   "execution_count": 44,
   "metadata": {
    "collapsed": false
   },
   "outputs": [],
   "source": [
    "last_year_df = df[df['year']==2016]"
   ]
  },
  {
   "cell_type": "code",
   "execution_count": 45,
   "metadata": {
    "collapsed": false
   },
   "outputs": [
    {
     "name": "stderr",
     "output_type": "stream",
     "text": [
      "/Users/matthewrobinson/anaconda/lib/python3.6/site-packages/pandas/core/indexing.py:297: SettingWithCopyWarning: \n",
      "A value is trying to be set on a copy of a slice from a DataFrame.\n",
      "Try using .loc[row_indexer,col_indexer] = value instead\n",
      "\n",
      "See the caveats in the documentation: http://pandas.pydata.org/pandas-docs/stable/indexing.html#indexing-view-versus-copy\n",
      "  self.obj[key] = _infer_fill_value(value)\n",
      "/Users/matthewrobinson/anaconda/lib/python3.6/site-packages/pandas/core/indexing.py:477: SettingWithCopyWarning: \n",
      "A value is trying to be set on a copy of a slice from a DataFrame.\n",
      "Try using .loc[row_indexer,col_indexer] = value instead\n",
      "\n",
      "See the caveats in the documentation: http://pandas.pydata.org/pandas-docs/stable/indexing.html#indexing-view-versus-copy\n",
      "  self.obj[item] = s\n"
     ]
    }
   ],
   "source": [
    "last_year_df.loc[last_year_df.scorediff >= 0, 'win'] = 1\n",
    "last_year_df.loc[last_year_df.scorediff < 0, 'win'] = 0"
   ]
  },
  {
   "cell_type": "code",
   "execution_count": 46,
   "metadata": {
    "collapsed": false
   },
   "outputs": [
    {
     "data": {
      "text/html": [
       "<div>\n",
       "<table border=\"1\" class=\"dataframe\">\n",
       "  <thead>\n",
       "    <tr style=\"text-align: right;\">\n",
       "      <th></th>\n",
       "      <th>scorediff</th>\n",
       "      <th>predscorediff</th>\n",
       "      <th>win</th>\n",
       "    </tr>\n",
       "  </thead>\n",
       "  <tbody>\n",
       "    <tr>\n",
       "      <th>3038</th>\n",
       "      <td>-27</td>\n",
       "      <td>-11.0</td>\n",
       "      <td>0.0</td>\n",
       "    </tr>\n",
       "    <tr>\n",
       "      <th>3287</th>\n",
       "      <td>27</td>\n",
       "      <td>11.0</td>\n",
       "      <td>1.0</td>\n",
       "    </tr>\n",
       "    <tr>\n",
       "      <th>3761</th>\n",
       "      <td>-3</td>\n",
       "      <td>-10.1</td>\n",
       "      <td>0.0</td>\n",
       "    </tr>\n",
       "    <tr>\n",
       "      <th>3762</th>\n",
       "      <td>-3</td>\n",
       "      <td>7.8</td>\n",
       "      <td>0.0</td>\n",
       "    </tr>\n",
       "    <tr>\n",
       "      <th>3763</th>\n",
       "      <td>-11</td>\n",
       "      <td>-7.2</td>\n",
       "      <td>0.0</td>\n",
       "    </tr>\n",
       "  </tbody>\n",
       "</table>\n",
       "</div>"
      ],
      "text/plain": [
       "      scorediff  predscorediff  win\n",
       "3038        -27          -11.0  0.0\n",
       "3287         27           11.0  1.0\n",
       "3761         -3          -10.1  0.0\n",
       "3762         -3            7.8  0.0\n",
       "3763        -11           -7.2  0.0"
      ]
     },
     "execution_count": 46,
     "metadata": {},
     "output_type": "execute_result"
    }
   ],
   "source": [
    "last_year_df[['scorediff','predscorediff','win']].head()"
   ]
  },
  {
   "cell_type": "markdown",
   "metadata": {},
   "source": [
    "Now use a logistic regression model to predict `win` based on the `predscorediff`"
   ]
  },
  {
   "cell_type": "code",
   "execution_count": 53,
   "metadata": {
    "collapsed": false
   },
   "outputs": [],
   "source": [
    "# make the training data\n",
    "X = last_year_df['predscorediff']\n",
    "X = X.values.reshape(-1,1)\n",
    "y = last_year_df['win']"
   ]
  },
  {
   "cell_type": "code",
   "execution_count": 54,
   "metadata": {
    "collapsed": false
   },
   "outputs": [
    {
     "data": {
      "text/plain": [
       "LogisticRegression(C=1.0, class_weight=None, dual=False, fit_intercept=True,\n",
       "          intercept_scaling=1, max_iter=100, multi_class='ovr', n_jobs=1,\n",
       "          penalty='l2', random_state=None, solver='liblinear', tol=0.0001,\n",
       "          verbose=0, warm_start=False)"
      ]
     },
     "execution_count": 54,
     "metadata": {},
     "output_type": "execute_result"
    }
   ],
   "source": [
    "from sklearn.linear_model import LogisticRegression\n",
    "log_reg = LogisticRegression()\n",
    "log_reg.fit(X, y)"
   ]
  },
  {
   "cell_type": "code",
   "execution_count": 55,
   "metadata": {
    "collapsed": false
   },
   "outputs": [
    {
     "data": {
      "text/plain": [
       "0.81578947368421051"
      ]
     },
     "execution_count": 55,
     "metadata": {},
     "output_type": "execute_result"
    }
   ],
   "source": [
    "log_reg.score(X, y)"
   ]
  },
  {
   "cell_type": "code",
   "execution_count": 78,
   "metadata": {
    "collapsed": false
   },
   "outputs": [
    {
     "name": "stderr",
     "output_type": "stream",
     "text": [
      "/Users/matthewrobinson/anaconda/lib/python3.6/site-packages/ipykernel/__main__.py:1: SettingWithCopyWarning: \n",
      "A value is trying to be set on a copy of a slice from a DataFrame.\n",
      "Try using .loc[row_indexer,col_indexer] = value instead\n",
      "\n",
      "See the caveats in the documentation: http://pandas.pydata.org/pandas-docs/stable/indexing.html#indexing-view-versus-copy\n",
      "  if __name__ == '__main__':\n"
     ]
    }
   ],
   "source": [
    "last_year_df['winprob'] = (1-log_reg.predict_proba(X))"
   ]
  },
  {
   "cell_type": "code",
   "execution_count": 79,
   "metadata": {
    "collapsed": false
   },
   "outputs": [
    {
     "data": {
      "text/html": [
       "<div>\n",
       "<table border=\"1\" class=\"dataframe\">\n",
       "  <thead>\n",
       "    <tr style=\"text-align: right;\">\n",
       "      <th></th>\n",
       "      <th>scorediff</th>\n",
       "      <th>predscorediff</th>\n",
       "      <th>win</th>\n",
       "      <th>winprob</th>\n",
       "    </tr>\n",
       "  </thead>\n",
       "  <tbody>\n",
       "    <tr>\n",
       "      <th>3038</th>\n",
       "      <td>-27</td>\n",
       "      <td>-11.0</td>\n",
       "      <td>0.0</td>\n",
       "      <td>0.172170</td>\n",
       "    </tr>\n",
       "    <tr>\n",
       "      <th>3287</th>\n",
       "      <td>27</td>\n",
       "      <td>11.0</td>\n",
       "      <td>1.0</td>\n",
       "      <td>0.827829</td>\n",
       "    </tr>\n",
       "    <tr>\n",
       "      <th>3761</th>\n",
       "      <td>-3</td>\n",
       "      <td>-10.1</td>\n",
       "      <td>0.0</td>\n",
       "      <td>0.191259</td>\n",
       "    </tr>\n",
       "    <tr>\n",
       "      <th>3762</th>\n",
       "      <td>-3</td>\n",
       "      <td>7.8</td>\n",
       "      <td>0.0</td>\n",
       "      <td>0.752780</td>\n",
       "    </tr>\n",
       "    <tr>\n",
       "      <th>3763</th>\n",
       "      <td>-11</td>\n",
       "      <td>-7.2</td>\n",
       "      <td>0.0</td>\n",
       "      <td>0.263501</td>\n",
       "    </tr>\n",
       "  </tbody>\n",
       "</table>\n",
       "</div>"
      ],
      "text/plain": [
       "      scorediff  predscorediff  win   winprob\n",
       "3038        -27          -11.0  0.0  0.172170\n",
       "3287         27           11.0  1.0  0.827829\n",
       "3761         -3          -10.1  0.0  0.191259\n",
       "3762         -3            7.8  0.0  0.752780\n",
       "3763        -11           -7.2  0.0  0.263501"
      ]
     },
     "execution_count": 79,
     "metadata": {},
     "output_type": "execute_result"
    }
   ],
   "source": [
    "last_year_df[['scorediff','predscorediff','win','winprob']].head()"
   ]
  },
  {
   "cell_type": "markdown",
   "metadata": {},
   "source": [
    "## Predicting the 2017 Ivy League Season"
   ]
  },
  {
   "cell_type": "markdown",
   "metadata": {},
   "source": [
    "First let me load in a .csv file of 2017 Ivy League games I scraped from ESPN's website:"
   ]
  },
  {
   "cell_type": "code",
   "execution_count": 310,
   "metadata": {
    "collapsed": true
   },
   "outputs": [],
   "source": [
    "ivy_games_df = pd.read_csv('2017_IVY_schedule.csv')"
   ]
  },
  {
   "cell_type": "code",
   "execution_count": 311,
   "metadata": {
    "collapsed": false
   },
   "outputs": [
    {
     "data": {
      "text/html": [
       "<div>\n",
       "<table border=\"1\" class=\"dataframe\">\n",
       "  <thead>\n",
       "    <tr style=\"text-align: right;\">\n",
       "      <th></th>\n",
       "      <th>MATCHUP</th>\n",
       "      <th>team</th>\n",
       "      <th>opponent</th>\n",
       "      <th>Location</th>\n",
       "    </tr>\n",
       "  </thead>\n",
       "  <tbody>\n",
       "    <tr>\n",
       "      <th>0</th>\n",
       "      <td>Ohio Dominican @ Pennsylvania</td>\n",
       "      <td>Pennsylvania</td>\n",
       "      <td>Ohio Dominican</td>\n",
       "      <td>1</td>\n",
       "    </tr>\n",
       "    <tr>\n",
       "      <th>1</th>\n",
       "      <td>San Diego @ Princeton</td>\n",
       "      <td>Princeton</td>\n",
       "      <td>San Diego</td>\n",
       "      <td>1</td>\n",
       "    </tr>\n",
       "    <tr>\n",
       "      <th>2</th>\n",
       "      <td>Yale @ Lehigh</td>\n",
       "      <td>Lehigh</td>\n",
       "      <td>Yale</td>\n",
       "      <td>1</td>\n",
       "    </tr>\n",
       "    <tr>\n",
       "      <th>3</th>\n",
       "      <td>Bryant @ Brown</td>\n",
       "      <td>Brown</td>\n",
       "      <td>Bryant</td>\n",
       "      <td>1</td>\n",
       "    </tr>\n",
       "    <tr>\n",
       "      <th>4</th>\n",
       "      <td>Harvard @ Rhode Island</td>\n",
       "      <td>Rhode Island</td>\n",
       "      <td>Harvard</td>\n",
       "      <td>1</td>\n",
       "    </tr>\n",
       "  </tbody>\n",
       "</table>\n",
       "</div>"
      ],
      "text/plain": [
       "                         MATCHUP           team         opponent  Location\n",
       "0  Ohio Dominican @ Pennsylvania   Pennsylvania  Ohio Dominican          1\n",
       "1          San Diego @ Princeton      Princeton       San Diego          1\n",
       "2                  Yale @ Lehigh         Lehigh            Yale          1\n",
       "3                 Bryant @ Brown          Brown          Bryant          1\n",
       "4         Harvard @ Rhode Island   Rhode Island         Harvard          1"
      ]
     },
     "execution_count": 311,
     "metadata": {},
     "output_type": "execute_result"
    }
   ],
   "source": [
    "ivy_games_df.head()"
   ]
  },
  {
   "cell_type": "code",
   "execution_count": 312,
   "metadata": {
    "collapsed": false
   },
   "outputs": [],
   "source": [
    "# make the rankings into a dictionary\n",
    "rankings_dict = ranked_team_df.set_index('team')['YUSAG_coef'].to_dict()"
   ]
  },
  {
   "cell_type": "code",
   "execution_count": 313,
   "metadata": {
    "collapsed": true
   },
   "outputs": [],
   "source": [
    "# Initialize new columns\n",
    "ivy_games_df['predscorediff'] = 0\n",
    "ivy_games_df['winprob'] = 0"
   ]
  },
  {
   "cell_type": "code",
   "execution_count": 314,
   "metadata": {
    "collapsed": false
   },
   "outputs": [],
   "source": [
    "ivy_games_df['team'] = ivy_games_df['team'].apply(lambda x: x.strip())\n",
    "#df['team'] = df['team'].str.strip()\n",
    "ivy_games_df['opponent'] = ivy_games_df['opponent'].apply(lambda x: x.strip())\n",
    "#df['opponent'] = df['opponent'].str.strip()"
   ]
  },
  {
   "cell_type": "code",
   "execution_count": 321,
   "metadata": {
    "collapsed": true
   },
   "outputs": [],
   "source": [
    "# change 'Pennsylvania' to 'Penn'\n",
    "ivy_games_df.loc[ivy_games_df.team == 'Pennsylvania','team'] = 'Penn'\n",
    "ivy_games_df.loc[ivy_games_df.opponent == 'Pennsylvania','opponent'] = 'Penn'\n",
    "\n",
    "# not working on Central Connecticut for some reason\n",
    "# ivy_games_df.loc[ivy_games_df.opponent == 'Central Connecticut','team'] = 'Central Conn. St.'"
   ]
  },
  {
   "cell_type": "code",
   "execution_count": 322,
   "metadata": {
    "collapsed": false
   },
   "outputs": [
    {
     "data": {
      "text/html": [
       "<div>\n",
       "<table border=\"1\" class=\"dataframe\">\n",
       "  <thead>\n",
       "    <tr style=\"text-align: right;\">\n",
       "      <th></th>\n",
       "      <th>MATCHUP</th>\n",
       "      <th>team</th>\n",
       "      <th>opponent</th>\n",
       "      <th>Location</th>\n",
       "      <th>predscorediff</th>\n",
       "      <th>winprob</th>\n",
       "    </tr>\n",
       "  </thead>\n",
       "  <tbody>\n",
       "    <tr>\n",
       "      <th>0</th>\n",
       "      <td>Ohio Dominican @ Pennsylvania</td>\n",
       "      <td>Penn</td>\n",
       "      <td>Ohio Dominican</td>\n",
       "      <td>1</td>\n",
       "      <td>0.000000</td>\n",
       "      <td>0.499999</td>\n",
       "    </tr>\n",
       "    <tr>\n",
       "      <th>1</th>\n",
       "      <td>San Diego @ Princeton</td>\n",
       "      <td>Princeton</td>\n",
       "      <td>San Diego</td>\n",
       "      <td>1</td>\n",
       "      <td>7.952332</td>\n",
       "      <td>0.756805</td>\n",
       "    </tr>\n",
       "    <tr>\n",
       "      <th>2</th>\n",
       "      <td>Yale @ Lehigh</td>\n",
       "      <td>Lehigh</td>\n",
       "      <td>Yale</td>\n",
       "      <td>1</td>\n",
       "      <td>18.976893</td>\n",
       "      <td>0.937560</td>\n",
       "    </tr>\n",
       "    <tr>\n",
       "      <th>3</th>\n",
       "      <td>Bryant @ Brown</td>\n",
       "      <td>Brown</td>\n",
       "      <td>Bryant</td>\n",
       "      <td>1</td>\n",
       "      <td>-4.497419</td>\n",
       "      <td>0.344785</td>\n",
       "    </tr>\n",
       "    <tr>\n",
       "      <th>4</th>\n",
       "      <td>Harvard @ Rhode Island</td>\n",
       "      <td>Rhode Island</td>\n",
       "      <td>Harvard</td>\n",
       "      <td>1</td>\n",
       "      <td>-13.408066</td>\n",
       "      <td>0.128521</td>\n",
       "    </tr>\n",
       "  </tbody>\n",
       "</table>\n",
       "</div>"
      ],
      "text/plain": [
       "                         MATCHUP          team        opponent  Location  \\\n",
       "0  Ohio Dominican @ Pennsylvania          Penn  Ohio Dominican         1   \n",
       "1          San Diego @ Princeton     Princeton       San Diego         1   \n",
       "2                  Yale @ Lehigh        Lehigh            Yale         1   \n",
       "3                 Bryant @ Brown         Brown          Bryant         1   \n",
       "4         Harvard @ Rhode Island  Rhode Island         Harvard         1   \n",
       "\n",
       "   predscorediff   winprob  \n",
       "0       0.000000  0.499999  \n",
       "1       7.952332  0.756805  \n",
       "2      18.976893  0.937560  \n",
       "3      -4.497419  0.344785  \n",
       "4     -13.408066  0.128521  "
      ]
     },
     "execution_count": 322,
     "metadata": {},
     "output_type": "execute_result"
    }
   ],
   "source": [
    "ivy_games_df.head()"
   ]
  },
  {
   "cell_type": "code",
   "execution_count": 323,
   "metadata": {
    "collapsed": false
   },
   "outputs": [],
   "source": [
    "location_const = 1.77\n",
    "for index, row in ivy_games_df.iterrows():\n",
    "    \n",
    "    # use a try in case team is unknown\n",
    "    try:\n",
    "        team_YUSAG_coef = rankings_dict[row['team']]\n",
    "        opponent_YUSAG_coef = rankings_dict[row['opponent']]\n",
    "    except:\n",
    "        continue\n",
    "        \n",
    "    if row['Location'] == 1:\n",
    "        ivy_games_df.loc[index,'predscorediff'] = team_YUSAG_coef - opponent_YUSAG_coef + location_const\n",
    "    elif row['Location'] == 0:\n",
    "        ivy_games_df.loc[index,'predscorediff'] = team_YUSAG_coef - opponent_YUSAG_coef"
   ]
  },
  {
   "cell_type": "code",
   "execution_count": 324,
   "metadata": {
    "collapsed": false
   },
   "outputs": [
    {
     "data": {
      "text/html": [
       "<div>\n",
       "<table border=\"1\" class=\"dataframe\">\n",
       "  <thead>\n",
       "    <tr style=\"text-align: right;\">\n",
       "      <th></th>\n",
       "      <th>MATCHUP</th>\n",
       "      <th>team</th>\n",
       "      <th>opponent</th>\n",
       "      <th>Location</th>\n",
       "      <th>predscorediff</th>\n",
       "      <th>winprob</th>\n",
       "    </tr>\n",
       "  </thead>\n",
       "  <tbody>\n",
       "    <tr>\n",
       "      <th>0</th>\n",
       "      <td>Ohio Dominican @ Pennsylvania</td>\n",
       "      <td>Penn</td>\n",
       "      <td>Ohio Dominican</td>\n",
       "      <td>1</td>\n",
       "      <td>0.000000</td>\n",
       "      <td>0.499999</td>\n",
       "    </tr>\n",
       "    <tr>\n",
       "      <th>1</th>\n",
       "      <td>San Diego @ Princeton</td>\n",
       "      <td>Princeton</td>\n",
       "      <td>San Diego</td>\n",
       "      <td>1</td>\n",
       "      <td>7.952332</td>\n",
       "      <td>0.756805</td>\n",
       "    </tr>\n",
       "    <tr>\n",
       "      <th>2</th>\n",
       "      <td>Yale @ Lehigh</td>\n",
       "      <td>Lehigh</td>\n",
       "      <td>Yale</td>\n",
       "      <td>1</td>\n",
       "      <td>18.976893</td>\n",
       "      <td>0.937560</td>\n",
       "    </tr>\n",
       "    <tr>\n",
       "      <th>3</th>\n",
       "      <td>Bryant @ Brown</td>\n",
       "      <td>Brown</td>\n",
       "      <td>Bryant</td>\n",
       "      <td>1</td>\n",
       "      <td>-4.497419</td>\n",
       "      <td>0.344785</td>\n",
       "    </tr>\n",
       "    <tr>\n",
       "      <th>4</th>\n",
       "      <td>Harvard @ Rhode Island</td>\n",
       "      <td>Rhode Island</td>\n",
       "      <td>Harvard</td>\n",
       "      <td>1</td>\n",
       "      <td>-13.408066</td>\n",
       "      <td>0.128521</td>\n",
       "    </tr>\n",
       "  </tbody>\n",
       "</table>\n",
       "</div>"
      ],
      "text/plain": [
       "                         MATCHUP          team        opponent  Location  \\\n",
       "0  Ohio Dominican @ Pennsylvania          Penn  Ohio Dominican         1   \n",
       "1          San Diego @ Princeton     Princeton       San Diego         1   \n",
       "2                  Yale @ Lehigh        Lehigh            Yale         1   \n",
       "3                 Bryant @ Brown         Brown          Bryant         1   \n",
       "4         Harvard @ Rhode Island  Rhode Island         Harvard         1   \n",
       "\n",
       "   predscorediff   winprob  \n",
       "0       0.000000  0.499999  \n",
       "1       7.952332  0.756805  \n",
       "2      18.976893  0.937560  \n",
       "3      -4.497419  0.344785  \n",
       "4     -13.408066  0.128521  "
      ]
     },
     "execution_count": 324,
     "metadata": {},
     "output_type": "execute_result"
    }
   ],
   "source": [
    "ivy_games_df.head()"
   ]
  },
  {
   "cell_type": "code",
   "execution_count": 325,
   "metadata": {
    "collapsed": false
   },
   "outputs": [],
   "source": [
    "predscorediff_data = ivy_games_df['predscorediff'].values.reshape(-1,1)\n",
    "ivy_games_df['winprob'] = (1-log_reg.predict_proba(predscorediff_data))"
   ]
  },
  {
   "cell_type": "code",
   "execution_count": 327,
   "metadata": {
    "collapsed": false
   },
   "outputs": [
    {
     "data": {
      "text/html": [
       "<div>\n",
       "<table border=\"1\" class=\"dataframe\">\n",
       "  <thead>\n",
       "    <tr style=\"text-align: right;\">\n",
       "      <th></th>\n",
       "      <th>MATCHUP</th>\n",
       "      <th>team</th>\n",
       "      <th>opponent</th>\n",
       "      <th>Location</th>\n",
       "      <th>predscorediff</th>\n",
       "      <th>winprob</th>\n",
       "    </tr>\n",
       "  </thead>\n",
       "  <tbody>\n",
       "    <tr>\n",
       "      <th>0</th>\n",
       "      <td>Ohio Dominican @ Pennsylvania</td>\n",
       "      <td>Penn</td>\n",
       "      <td>Ohio Dominican</td>\n",
       "      <td>1</td>\n",
       "      <td>0.000000</td>\n",
       "      <td>0.499999</td>\n",
       "    </tr>\n",
       "    <tr>\n",
       "      <th>1</th>\n",
       "      <td>San Diego @ Princeton</td>\n",
       "      <td>Princeton</td>\n",
       "      <td>San Diego</td>\n",
       "      <td>1</td>\n",
       "      <td>7.952332</td>\n",
       "      <td>0.756805</td>\n",
       "    </tr>\n",
       "    <tr>\n",
       "      <th>2</th>\n",
       "      <td>Yale @ Lehigh</td>\n",
       "      <td>Lehigh</td>\n",
       "      <td>Yale</td>\n",
       "      <td>1</td>\n",
       "      <td>18.976893</td>\n",
       "      <td>0.937560</td>\n",
       "    </tr>\n",
       "    <tr>\n",
       "      <th>3</th>\n",
       "      <td>Bryant @ Brown</td>\n",
       "      <td>Brown</td>\n",
       "      <td>Bryant</td>\n",
       "      <td>1</td>\n",
       "      <td>-4.497419</td>\n",
       "      <td>0.344785</td>\n",
       "    </tr>\n",
       "    <tr>\n",
       "      <th>4</th>\n",
       "      <td>Harvard @ Rhode Island</td>\n",
       "      <td>Rhode Island</td>\n",
       "      <td>Harvard</td>\n",
       "      <td>1</td>\n",
       "      <td>-13.408066</td>\n",
       "      <td>0.128521</td>\n",
       "    </tr>\n",
       "  </tbody>\n",
       "</table>\n",
       "</div>"
      ],
      "text/plain": [
       "                         MATCHUP          team        opponent  Location  \\\n",
       "0  Ohio Dominican @ Pennsylvania          Penn  Ohio Dominican         1   \n",
       "1          San Diego @ Princeton     Princeton       San Diego         1   \n",
       "2                  Yale @ Lehigh        Lehigh            Yale         1   \n",
       "3                 Bryant @ Brown         Brown          Bryant         1   \n",
       "4         Harvard @ Rhode Island  Rhode Island         Harvard         1   \n",
       "\n",
       "   predscorediff   winprob  \n",
       "0       0.000000  0.499999  \n",
       "1       7.952332  0.756805  \n",
       "2      18.976893  0.937560  \n",
       "3      -4.497419  0.344785  \n",
       "4     -13.408066  0.128521  "
      ]
     },
     "execution_count": 327,
     "metadata": {},
     "output_type": "execute_result"
    }
   ],
   "source": [
    "ivy_games_df.head()"
   ]
  },
  {
   "cell_type": "code",
   "execution_count": 330,
   "metadata": {
    "collapsed": false
   },
   "outputs": [],
   "source": [
    "conference_games_df = ivy_games_df.loc[ivy_games_df['team'].isin(ivy_team_names) & ivy_games_df['opponent'].isin(ivy_team_names)]"
   ]
  },
  {
   "cell_type": "code",
   "execution_count": 332,
   "metadata": {
    "collapsed": false
   },
   "outputs": [
    {
     "data": {
      "text/html": [
       "<div>\n",
       "<table border=\"1\" class=\"dataframe\">\n",
       "  <thead>\n",
       "    <tr style=\"text-align: right;\">\n",
       "      <th></th>\n",
       "      <th>MATCHUP</th>\n",
       "      <th>team</th>\n",
       "      <th>opponent</th>\n",
       "      <th>Location</th>\n",
       "      <th>predscorediff</th>\n",
       "      <th>winprob</th>\n",
       "    </tr>\n",
       "  </thead>\n",
       "  <tbody>\n",
       "    <tr>\n",
       "      <th>9</th>\n",
       "      <td>Cornell @ Yale</td>\n",
       "      <td>Yale</td>\n",
       "      <td>Cornell</td>\n",
       "      <td>1</td>\n",
       "      <td>4.616433</td>\n",
       "      <td>0.659040</td>\n",
       "    </tr>\n",
       "    <tr>\n",
       "      <th>10</th>\n",
       "      <td>Brown @ Harvard</td>\n",
       "      <td>Harvard</td>\n",
       "      <td>Brown</td>\n",
       "      <td>1</td>\n",
       "      <td>15.592662</td>\n",
       "      <td>0.902556</td>\n",
       "    </tr>\n",
       "    <tr>\n",
       "      <th>14</th>\n",
       "      <td>Dartmouth @ Pennsylvania</td>\n",
       "      <td>Penn</td>\n",
       "      <td>Dartmouth</td>\n",
       "      <td>1</td>\n",
       "      <td>4.054789</td>\n",
       "      <td>0.640801</td>\n",
       "    </tr>\n",
       "    <tr>\n",
       "      <th>17</th>\n",
       "      <td>Columbia @ Princeton</td>\n",
       "      <td>Princeton</td>\n",
       "      <td>Columbia</td>\n",
       "      <td>1</td>\n",
       "      <td>22.624845</td>\n",
       "      <td>0.961942</td>\n",
       "    </tr>\n",
       "    <tr>\n",
       "      <th>20</th>\n",
       "      <td>Yale @ Dartmouth</td>\n",
       "      <td>Dartmouth</td>\n",
       "      <td>Yale</td>\n",
       "      <td>1</td>\n",
       "      <td>11.341521</td>\n",
       "      <td>0.834667</td>\n",
       "    </tr>\n",
       "  </tbody>\n",
       "</table>\n",
       "</div>"
      ],
      "text/plain": [
       "                     MATCHUP       team   opponent  Location  predscorediff  \\\n",
       "9             Cornell @ Yale       Yale    Cornell         1       4.616433   \n",
       "10           Brown @ Harvard    Harvard      Brown         1      15.592662   \n",
       "14  Dartmouth @ Pennsylvania       Penn  Dartmouth         1       4.054789   \n",
       "17      Columbia @ Princeton  Princeton   Columbia         1      22.624845   \n",
       "20          Yale @ Dartmouth  Dartmouth       Yale         1      11.341521   \n",
       "\n",
       "     winprob  \n",
       "9   0.659040  \n",
       "10  0.902556  \n",
       "14  0.640801  \n",
       "17  0.961942  \n",
       "20  0.834667  "
      ]
     },
     "execution_count": 332,
     "metadata": {},
     "output_type": "execute_result"
    }
   ],
   "source": [
    "conference_games_df.head()"
   ]
  },
  {
   "cell_type": "markdown",
   "metadata": {},
   "source": [
    "## Monte Carlo Simulation of Season"
   ]
  },
  {
   "cell_type": "markdown",
   "metadata": {},
   "source": [
    "First, I am just going to compute the expected win loss record for each team:"
   ]
  },
  {
   "cell_type": "code",
   "execution_count": 334,
   "metadata": {
    "collapsed": false
   },
   "outputs": [],
   "source": [
    "# create an initial dictionary to hold win records\n",
    "ivy_records_dict = {}\n",
    "# initialize each value to 0\n",
    "for team in ivy_team_names:\n",
    "    ivy_records_dict[team] = 0\n",
    "# fill the entries with expected number of wins\n",
    "for index, row in conference_games_df.iterrows():\n",
    "    team = row['team']\n",
    "    opponent = row['opponent']\n",
    "    team_winprob = row['winprob']\n",
    "    opponent_winprob = 1 - row['winprob']\n",
    "    \n",
    "    ivy_records_dict[team] = ivy_records_dict[team] + team_winprob\n",
    "    ivy_records_dict[opponent] = ivy_records_dict[opponent] + opponent_winprob"
   ]
  },
  {
   "cell_type": "code",
   "execution_count": 335,
   "metadata": {
    "collapsed": false
   },
   "outputs": [
    {
     "data": {
      "text/plain": [
       "{'Brown': 1.8822607681048584,\n",
       " 'Columbia': 1.8347538619344648,\n",
       " 'Cornell': 1.728901541225702,\n",
       " 'Dartmouth': 4.348999361754445,\n",
       " 'Harvard': 5.082266136673617,\n",
       " 'Penn': 4.831220088946746,\n",
       " 'Princeton': 5.89229045097989,\n",
       " 'Yale': 2.399307790380276}"
      ]
     },
     "execution_count": 335,
     "metadata": {},
     "output_type": "execute_result"
    }
   ],
   "source": [
    "ivy_records_dict # expected record is just (value, 7-value)"
   ]
  },
  {
   "cell_type": "markdown",
   "metadata": {},
   "source": [
    "Now, let's actually run a simulation to see who wins the conference, and how often"
   ]
  },
  {
   "cell_type": "code",
   "execution_count": 336,
   "metadata": {
    "collapsed": true
   },
   "outputs": [],
   "source": [
    "import random"
   ]
  },
  {
   "cell_type": "code",
   "execution_count": 340,
   "metadata": {
    "collapsed": false
   },
   "outputs": [
    {
     "name": "stdout",
     "output_type": "stream",
     "text": [
      "0\n",
      "1000\n",
      "2000\n",
      "3000\n",
      "4000\n",
      "5000\n",
      "6000\n",
      "7000\n",
      "8000\n",
      "9000\n"
     ]
    }
   ],
   "source": [
    "# initialize a dict of league titile counts\n",
    "ivy_titles_dict = {}\n",
    "for team in ivy_team_names:\n",
    "    ivy_titles_dict[team] = 0\n",
    "    \n",
    "# run through the season 10,000 times\n",
    "for i in range(10000):\n",
    "    # can change these values based on current record\n",
    "    season_win_dict = dict({'Yale': 0, 'Harvard': 0,'Penn': 0,'Dartmouth': 0,\n",
    "                            'Princeton': 0, 'Brown': 0,'Columbia': 0,'Cornell': 0,})\n",
    "    # loop over the games in a season\n",
    "    for index, row in conference_games_df.iterrows():\n",
    "        rand_num = random.random()\n",
    "        if rand_num <= row['winprob']:\n",
    "            season_win_dict[row['team']] = season_win_dict[row['team']] + 1\n",
    "        elif rand_num > row['winprob']:\n",
    "            season_win_dict[row['opponent']] = season_win_dict[row['opponent']] + 1\n",
    "    # find the largest number of wins\n",
    "    most_wins = 0\n",
    "    for key in season_win_dict:\n",
    "        if season_win_dict[key] > most_wins:\n",
    "            most_wins = season_win_dict[key]\n",
    "    # find teams with the most wins, they get the title according to ivy rules\n",
    "    for key in season_win_dict:\n",
    "        if season_win_dict[key] == most_wins:      \n",
    "            ivy_titles_dict[key] = ivy_titles_dict[key] + 1\n",
    "            \n",
    "    if i%1000 == 0:\n",
    "        print(i)"
   ]
  },
  {
   "cell_type": "code",
   "execution_count": 341,
   "metadata": {
    "collapsed": false
   },
   "outputs": [
    {
     "data": {
      "text/plain": [
       "{'Brown': 21,\n",
       " 'Columbia': 18,\n",
       " 'Cornell': 6,\n",
       " 'Dartmouth': 1418,\n",
       " 'Harvard': 3343,\n",
       " 'Penn': 2558,\n",
       " 'Princeton': 6776,\n",
       " 'Yale': 46}"
      ]
     },
     "execution_count": 341,
     "metadata": {},
     "output_type": "execute_result"
    }
   ],
   "source": [
    "ivy_titles_dict"
   ]
  },
  {
   "cell_type": "code",
   "execution_count": 344,
   "metadata": {
    "collapsed": false
   },
   "outputs": [],
   "source": [
    "%matplotlib inline\n",
    "import matplotlib.pyplot as plt\n",
    "plt.style.use('fivethirtyeight')"
   ]
  },
  {
   "cell_type": "code",
   "execution_count": 356,
   "metadata": {
    "collapsed": false
   },
   "outputs": [
    {
     "data": {
      "image/png": "[encoded data removed]",
      "text/plain": [
       "<matplotlib.figure.Figure at 0x11d7ed550>"
      ]
     },
     "metadata": {},
     "output_type": "display_data"
    }
   ],
   "source": [
    "plt.figure(figsize=(12,6))\n",
    "\n",
    "labels = list(ivy_titles_dict.keys())\n",
    "x_pos = np.arange(len(labels))\n",
    "heights = [x/10000.0 for x in list(ivy_titles_dict.values())]\n",
    "\n",
    "plt.bar(x_pos, heights, align='center')\n",
    "plt.xticks(x_pos, labels)\n",
    "plt.ylabel('Chance of winning title')\n",
    "plt.title('Ivy League Season Simulations')\n",
    " \n",
    "plt.show()"
   ]
  },
  {
   "cell_type": "code",
   "execution_count": null,
   "metadata": {
    "collapsed": true
   },
   "outputs": [],
   "source": []
  }
 ],
 "metadata": {
  "kernelspec": {
   "display_name": "Python 3",
   "language": "python",
   "name": "python3"
  },
  "language_info": {
   "codemirror_mode": {
    "name": "ipython",
    "version": 3
   },
   "file_extension": ".py",
   "mimetype": "text/x-python",
   "name": "python",
   "nbconvert_exporter": "python",
   "pygments_lexer": "ipython3",
   "version": "3.6.0"
  }
 },
 "nbformat": 4,
 "nbformat_minor": 2
}
